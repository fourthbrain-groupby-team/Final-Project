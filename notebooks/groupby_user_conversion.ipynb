{
 "cells": [
  {
   "cell_type": "markdown",
   "id": "ca7c8501",
   "metadata": {},
   "source": [
    "## Problems"
   ]
  },
  {
   "cell_type": "markdown",
   "id": "cde18696",
   "metadata": {},
   "source": [
    "### Conversion\n",
    "1.\tIs it possible to predict customer conversion (from viewing to purchasing)?\n",
    "2.\tCan we identify “new customers”? If yes then what is the best strategy to work with them?\n",
    "3.\tWhat are the top features that define customer conversion?\n",
    "4.\tCan we explain and visualize the predictive model for customer conversion on a journey and at a session level?\n",
    "5.\tIs there a pattern and trend across product types regarding the conversion event?\n",
    "\n",
    "### Personalization\n",
    "1.\tCan we personalize the experience from customer-product interactions?\n",
    "2.\tDoes the product catalogue information help in improving customer experience?\n",
    "3.\tCan personalized shopping experience be predictively modeled?\n",
    "4.\tCan we apply transfer learning from other E-commerce data sets to our local data set?"
   ]
  },
  {
   "cell_type": "code",
   "execution_count": 1,
   "id": "4ff3aa20",
   "metadata": {
    "scrolled": true
   },
   "outputs": [
    {
     "name": "stdout",
     "output_type": "stream",
     "text": [
      "\u001b[33mWARNING: Skipping keras as it is not installed.\u001b[0m\n",
      "\u001b[33mWARNING: Skipping keras-nightly as it is not installed.\u001b[0m\n",
      "\u001b[33mWARNING: Skipping keras-Preprocessing as it is not installed.\u001b[0m\n",
      "\u001b[33mWARNING: Skipping keras-vis as it is not installed.\u001b[0m\n",
      "\u001b[33mWARNING: Skipping tensorflow as it is not installed.\u001b[0m\n",
      "Collecting Flask==2.0.1\n",
      "  Downloading Flask-2.0.1-py3-none-any.whl (94 kB)\n",
      "\u001b[K     |████████████████████████████████| 94 kB 3.8 MB/s  eta 0:00:01\n",
      "\u001b[?25hCollecting flask-swagger==0.2.14\n",
      "  Downloading flask-swagger-0.2.14.tar.gz (8.6 kB)\n",
      "Collecting xgboost\n",
      "  Downloading xgboost-1.4.2-py3-none-manylinux2010_x86_64.whl (166.7 MB)\n",
      "\u001b[K     |████████████████████████████████| 166.7 MB 116.4 MB/s eta 0:00:01\n",
      "\u001b[?25hCollecting TPOT\n",
      "  Downloading TPOT-0.11.7-py3-none-any.whl (87 kB)\n",
      "\u001b[K     |████████████████████████████████| 87 kB 11.4 MB/s  eta 0:00:01\n",
      "\u001b[?25hCollecting keras==2.4\n",
      "  Downloading Keras-2.4.0-py2.py3-none-any.whl (170 kB)\n",
      "\u001b[K     |████████████████████████████████| 170 kB 125.4 MB/s eta 0:00:01\n",
      "\u001b[?25hCollecting tensorflow==2.3.0\n",
      "  Downloading tensorflow-2.3.0-cp36-cp36m-manylinux2010_x86_64.whl (320.4 MB)\n",
      "\u001b[K     |███████████████████████████▋    | 276.3 MB 121.6 MB/s eta 0:00:01"
     ]
    },
    {
     "name": "stderr",
     "output_type": "stream",
     "text": [
      "IOPub data rate exceeded.\n",
      "The notebook server will temporarily stop sending output\n",
      "to the client in order to avoid crashing it.\n",
      "To change this limit, set the config variable\n",
      "`--NotebookApp.iopub_data_rate_limit`.\n",
      "\n",
      "Current values:\n",
      "NotebookApp.iopub_data_rate_limit=1000000.0 (bytes/sec)\n",
      "NotebookApp.rate_limit_window=3.0 (secs)\n",
      "\n"
     ]
    },
    {
     "name": "stdout",
     "output_type": "stream",
     "text": [
      "\u001b[K     |████████████████████████████████| 320.4 MB 43 kB/s \n",
      "\u001b[?25hCollecting shap\n",
      "  Downloading shap-0.39.0.tar.gz (356 kB)\n",
      "\u001b[K     |████████████████████████████████| 356 kB 103.6 MB/s eta 0:00:01\n",
      "\u001b[?25hCollecting itsdangerous>=2.0\n",
      "  Downloading itsdangerous-2.0.1-py3-none-any.whl (18 kB)\n",
      "Collecting Jinja2>=3.0\n",
      "  Downloading Jinja2-3.0.1-py3-none-any.whl (133 kB)\n",
      "\u001b[K     |████████████████████████████████| 133 kB 115.3 MB/s eta 0:00:01\n",
      "\u001b[?25hCollecting Werkzeug>=2.0\n",
      "  Downloading Werkzeug-2.0.1-py3-none-any.whl (288 kB)\n",
      "\u001b[K     |████████████████████████████████| 288 kB 111.1 MB/s eta 0:00:01\n",
      "\u001b[?25hRequirement already satisfied: click>=7.1.2 in /home/ec2-user/anaconda3/envs/python3/lib/python3.6/site-packages (from Flask==2.0.1->-r requirements.txt (line 1)) (7.1.2)\n",
      "Requirement already satisfied: PyYAML>=5.1 in /home/ec2-user/anaconda3/envs/python3/lib/python3.6/site-packages (from flask-swagger==0.2.14->-r requirements.txt (line 2)) (5.4.1)\n",
      "Requirement already satisfied: scipy>=0.14 in /home/ec2-user/anaconda3/envs/python3/lib/python3.6/site-packages (from keras==2.4->-r requirements.txt (line 5)) (1.5.3)\n",
      "Requirement already satisfied: numpy>=1.9.1 in /home/ec2-user/anaconda3/envs/python3/lib/python3.6/site-packages (from keras==2.4->-r requirements.txt (line 5)) (1.19.5)\n",
      "Requirement already satisfied: h5py in /home/ec2-user/anaconda3/envs/python3/lib/python3.6/site-packages (from keras==2.4->-r requirements.txt (line 5)) (3.1.0)\n",
      "Collecting tensorflow-estimator<2.4.0,>=2.3.0\n",
      "  Downloading tensorflow_estimator-2.3.0-py2.py3-none-any.whl (459 kB)\n",
      "\u001b[K     |████████████████████████████████| 459 kB 81.3 MB/s eta 0:00:01\n",
      "\u001b[?25hRequirement already satisfied: wheel>=0.26 in /home/ec2-user/anaconda3/envs/python3/lib/python3.6/site-packages (from tensorflow==2.3.0->-r requirements.txt (line 6)) (0.36.2)\n",
      "Collecting tensorboard<3,>=2.3.0\n",
      "  Downloading tensorboard-2.5.0-py3-none-any.whl (6.0 MB)\n",
      "\u001b[K     |████████████████████████████████| 6.0 MB 78.7 MB/s eta 0:00:01\n",
      "\u001b[?25hCollecting absl-py>=0.7.0\n",
      "  Downloading absl_py-0.13.0-py3-none-any.whl (132 kB)\n",
      "\u001b[K     |████████████████████████████████| 132 kB 123.5 MB/s eta 0:00:01\n",
      "\u001b[?25hCollecting gast==0.3.3\n",
      "  Downloading gast-0.3.3-py2.py3-none-any.whl (9.7 kB)\n",
      "Collecting h5py\n",
      "  Downloading h5py-2.10.0-cp36-cp36m-manylinux1_x86_64.whl (2.9 MB)\n",
      "\u001b[K     |████████████████████████████████| 2.9 MB 67.4 MB/s eta 0:00:01\n",
      "\u001b[?25hCollecting keras-preprocessing<1.2,>=1.1.1\n",
      "  Downloading Keras_Preprocessing-1.1.2-py2.py3-none-any.whl (42 kB)\n",
      "\u001b[K     |████████████████████████████████| 42 kB 940 kB/s  eta 0:00:01\n",
      "\u001b[?25hCollecting opt-einsum>=2.3.2\n",
      "  Downloading opt_einsum-3.3.0-py3-none-any.whl (65 kB)\n",
      "\u001b[K     |████████████████████████████████| 65 kB 4.2 MB/s s eta 0:00:01\n",
      "\u001b[?25hRequirement already satisfied: six>=1.12.0 in /home/ec2-user/anaconda3/envs/python3/lib/python3.6/site-packages (from tensorflow==2.3.0->-r requirements.txt (line 6)) (1.15.0)\n",
      "Collecting scipy>=0.14\n",
      "  Downloading scipy-1.4.1-cp36-cp36m-manylinux1_x86_64.whl (26.1 MB)\n",
      "\u001b[K     |████████████████████████████████| 26.1 MB 106.3 MB/s eta 0:00:01\n",
      "\u001b[?25hCollecting grpcio>=1.8.6\n",
      "  Downloading grpcio-1.38.1-cp36-cp36m-manylinux2014_x86_64.whl (4.2 MB)\n",
      "\u001b[K     |████████████████████████████████| 4.2 MB 91.5 MB/s eta 0:00:01\n",
      "\u001b[?25hCollecting astunparse==1.6.3\n",
      "  Downloading astunparse-1.6.3-py2.py3-none-any.whl (12 kB)\n",
      "Requirement already satisfied: google-pasta>=0.1.8 in /home/ec2-user/anaconda3/envs/python3/lib/python3.6/site-packages (from tensorflow==2.3.0->-r requirements.txt (line 6)) (0.2.0)\n",
      "Collecting termcolor>=1.1.0\n",
      "  Downloading termcolor-1.1.0.tar.gz (3.9 kB)\n",
      "Requirement already satisfied: protobuf>=3.9.2 in /home/ec2-user/anaconda3/envs/python3/lib/python3.6/site-packages (from tensorflow==2.3.0->-r requirements.txt (line 6)) (3.15.2)\n",
      "Requirement already satisfied: wrapt>=1.11.1 in /home/ec2-user/anaconda3/envs/python3/lib/python3.6/site-packages (from tensorflow==2.3.0->-r requirements.txt (line 6)) (1.12.1)\n",
      "Collecting numpy>=1.9.1\n",
      "  Downloading numpy-1.18.5-cp36-cp36m-manylinux1_x86_64.whl (20.1 MB)\n",
      "\u001b[K     |████████████████████████████████| 20.1 MB 61.3 MB/s eta 0:00:01\n",
      "\u001b[?25hCollecting MarkupSafe>=2.0\n",
      "  Downloading MarkupSafe-2.0.1-cp36-cp36m-manylinux2010_x86_64.whl (30 kB)\n",
      "Collecting tensorboard-plugin-wit>=1.6.0\n",
      "  Downloading tensorboard_plugin_wit-1.8.0-py3-none-any.whl (781 kB)\n",
      "\u001b[K     |████████████████████████████████| 781 kB 93.4 MB/s eta 0:00:01\n",
      "\u001b[?25hCollecting google-auth<2,>=1.6.3\n",
      "  Downloading google_auth-1.32.0-py2.py3-none-any.whl (147 kB)\n",
      "\u001b[K     |████████████████████████████████| 147 kB 115.0 MB/s eta 0:00:01\n",
      "\u001b[?25hRequirement already satisfied: setuptools>=41.0.0 in /home/ec2-user/anaconda3/envs/python3/lib/python3.6/site-packages (from tensorboard<3,>=2.3.0->tensorflow==2.3.0->-r requirements.txt (line 6)) (49.6.0.post20210108)\n",
      "Requirement already satisfied: requests<3,>=2.21.0 in /home/ec2-user/anaconda3/envs/python3/lib/python3.6/site-packages (from tensorboard<3,>=2.3.0->tensorflow==2.3.0->-r requirements.txt (line 6)) (2.25.1)\n",
      "Collecting markdown>=2.6.8\n",
      "  Downloading Markdown-3.3.4-py3-none-any.whl (97 kB)\n",
      "\u001b[K     |████████████████████████████████| 97 kB 8.0 MB/s s eta 0:00:01\n",
      "\u001b[?25hCollecting google-auth-oauthlib<0.5,>=0.4.1\n",
      "  Downloading google_auth_oauthlib-0.4.4-py2.py3-none-any.whl (18 kB)\n",
      "Collecting tensorboard-data-server<0.7.0,>=0.6.0\n",
      "  Downloading tensorboard_data_server-0.6.1-py3-none-manylinux2010_x86_64.whl (4.9 MB)\n",
      "\u001b[K     |████████████████████████████████| 4.9 MB 76.8 MB/s eta 0:00:01\n",
      "\u001b[?25hCollecting cachetools<5.0,>=2.0.0\n",
      "  Downloading cachetools-4.2.2-py3-none-any.whl (11 kB)\n",
      "Collecting pyasn1-modules>=0.2.1\n",
      "  Downloading pyasn1_modules-0.2.8-py2.py3-none-any.whl (155 kB)\n",
      "\u001b[K     |████████████████████████████████| 155 kB 117.1 MB/s eta 0:00:01\n",
      "\u001b[?25hRequirement already satisfied: rsa<5,>=3.1.4 in /home/ec2-user/anaconda3/envs/python3/lib/python3.6/site-packages (from google-auth<2,>=1.6.3->tensorboard<3,>=2.3.0->tensorflow==2.3.0->-r requirements.txt (line 6)) (4.7.2)\n",
      "Collecting requests-oauthlib>=0.7.0\n",
      "  Downloading requests_oauthlib-1.3.0-py2.py3-none-any.whl (23 kB)\n",
      "Requirement already satisfied: importlib-metadata in /home/ec2-user/anaconda3/envs/python3/lib/python3.6/site-packages (from markdown>=2.6.8->tensorboard<3,>=2.3.0->tensorflow==2.3.0->-r requirements.txt (line 6)) (3.7.0)\n",
      "Requirement already satisfied: pyasn1<0.5.0,>=0.4.6 in /home/ec2-user/anaconda3/envs/python3/lib/python3.6/site-packages (from pyasn1-modules>=0.2.1->google-auth<2,>=1.6.3->tensorboard<3,>=2.3.0->tensorflow==2.3.0->-r requirements.txt (line 6)) (0.4.8)\n",
      "Requirement already satisfied: certifi>=2017.4.17 in /home/ec2-user/anaconda3/envs/python3/lib/python3.6/site-packages (from requests<3,>=2.21.0->tensorboard<3,>=2.3.0->tensorflow==2.3.0->-r requirements.txt (line 6)) (2021.5.30)\n",
      "Requirement already satisfied: urllib3<1.27,>=1.21.1 in /home/ec2-user/anaconda3/envs/python3/lib/python3.6/site-packages (from requests<3,>=2.21.0->tensorboard<3,>=2.3.0->tensorflow==2.3.0->-r requirements.txt (line 6)) (1.26.5)\n",
      "Requirement already satisfied: idna<3,>=2.5 in /home/ec2-user/anaconda3/envs/python3/lib/python3.6/site-packages (from requests<3,>=2.21.0->tensorboard<3,>=2.3.0->tensorflow==2.3.0->-r requirements.txt (line 6)) (2.10)\n",
      "Requirement already satisfied: chardet<5,>=3.0.2 in /home/ec2-user/anaconda3/envs/python3/lib/python3.6/site-packages (from requests<3,>=2.21.0->tensorboard<3,>=2.3.0->tensorflow==2.3.0->-r requirements.txt (line 6)) (3.0.4)\n",
      "Collecting oauthlib>=3.0.0\n",
      "  Downloading oauthlib-3.1.1-py2.py3-none-any.whl (146 kB)\n",
      "\u001b[K     |████████████████████████████████| 146 kB 121.9 MB/s eta 0:00:01\n",
      "\u001b[?25hRequirement already satisfied: dataclasses in /home/ec2-user/anaconda3/envs/python3/lib/python3.6/site-packages (from Werkzeug>=2.0->Flask==2.0.1->-r requirements.txt (line 1)) (0.8)\n",
      "Requirement already satisfied: scikit-learn>=0.22.0 in /home/ec2-user/anaconda3/envs/python3/lib/python3.6/site-packages (from TPOT->-r requirements.txt (line 4)) (0.24.1)\n",
      "Requirement already satisfied: pandas>=0.24.2 in /home/ec2-user/anaconda3/envs/python3/lib/python3.6/site-packages (from TPOT->-r requirements.txt (line 4)) (1.1.5)\n",
      "Collecting deap>=1.2\n",
      "  Downloading deap-1.3.1-cp36-cp36m-manylinux_2_5_x86_64.manylinux1_x86_64.manylinux_2_12_x86_64.manylinux2010_x86_64.whl (160 kB)\n",
      "\u001b[K     |████████████████████████████████| 160 kB 118.5 MB/s eta 0:00:01\n",
      "\u001b[?25hRequirement already satisfied: joblib>=0.13.2 in /home/ec2-user/anaconda3/envs/python3/lib/python3.6/site-packages (from TPOT->-r requirements.txt (line 4)) (1.0.1)\n",
      "Collecting stopit>=1.1.1\n",
      "  Downloading stopit-1.1.2.tar.gz (18 kB)\n",
      "Collecting update-checker>=0.16\n",
      "  Downloading update_checker-0.18.0-py3-none-any.whl (7.0 kB)\n",
      "Collecting tqdm>=4.36.1\n",
      "  Downloading tqdm-4.61.1-py2.py3-none-any.whl (75 kB)\n",
      "\u001b[K     |████████████████████████████████| 75 kB 8.5 MB/s s eta 0:00:01\n",
      "\u001b[?25hRequirement already satisfied: python-dateutil>=2.7.3 in /home/ec2-user/anaconda3/envs/python3/lib/python3.6/site-packages (from pandas>=0.24.2->TPOT->-r requirements.txt (line 4)) (2.8.1)\n",
      "Requirement already satisfied: pytz>=2017.2 in /home/ec2-user/anaconda3/envs/python3/lib/python3.6/site-packages (from pandas>=0.24.2->TPOT->-r requirements.txt (line 4)) (2021.1)\n",
      "Requirement already satisfied: threadpoolctl>=2.0.0 in /home/ec2-user/anaconda3/envs/python3/lib/python3.6/site-packages (from scikit-learn>=0.22.0->TPOT->-r requirements.txt (line 4)) (2.1.0)\n",
      "Collecting slicer==0.0.7\n",
      "  Downloading slicer-0.0.7-py3-none-any.whl (14 kB)\n",
      "Requirement already satisfied: numba in /home/ec2-user/anaconda3/envs/python3/lib/python3.6/site-packages (from shap->-r requirements.txt (line 7)) (0.52.0)\n",
      "Requirement already satisfied: cloudpickle in /home/ec2-user/anaconda3/envs/python3/lib/python3.6/site-packages (from shap->-r requirements.txt (line 7)) (1.6.0)\n",
      "Requirement already satisfied: zipp>=0.5 in /home/ec2-user/anaconda3/envs/python3/lib/python3.6/site-packages (from importlib-metadata->markdown>=2.6.8->tensorboard<3,>=2.3.0->tensorflow==2.3.0->-r requirements.txt (line 6)) (3.4.0)\n",
      "Requirement already satisfied: typing-extensions>=3.6.4 in /home/ec2-user/anaconda3/envs/python3/lib/python3.6/site-packages (from importlib-metadata->markdown>=2.6.8->tensorboard<3,>=2.3.0->tensorflow==2.3.0->-r requirements.txt (line 6)) (3.7.4.3)\n",
      "Requirement already satisfied: llvmlite<0.36,>=0.35.0 in /home/ec2-user/anaconda3/envs/python3/lib/python3.6/site-packages (from numba->shap->-r requirements.txt (line 7)) (0.35.0)\n",
      "Building wheels for collected packages: flask-swagger, termcolor, stopit, shap\n",
      "  Building wheel for flask-swagger (setup.py) ... \u001b[?25ldone\n",
      "\u001b[?25h  Created wheel for flask-swagger: filename=flask_swagger-0.2.14-py3-none-any.whl size=7267 sha256=80b76f1a33bf1076961644cfde2f26abeaa5de64970a551236baad0bd2e46767\n",
      "  Stored in directory: /home/ec2-user/.cache/pip/wheels/22/22/bb/35a4e1842f04321623d381a5a2708d730e798a1b5e0ade5963\n",
      "  Building wheel for termcolor (setup.py) ... \u001b[?25ldone\n",
      "\u001b[?25h  Created wheel for termcolor: filename=termcolor-1.1.0-py3-none-any.whl size=4829 sha256=d8707f5728b7782123dceac58954041efeab2d5292761d889aa14566ad0abfbe\n",
      "  Stored in directory: /home/ec2-user/.cache/pip/wheels/93/2a/eb/e58dbcbc963549ee4f065ff80a59f274cc7210b6eab962acdc\n",
      "  Building wheel for stopit (setup.py) ... \u001b[?25ldone\n",
      "\u001b[?25h  Created wheel for stopit: filename=stopit-1.1.2-py3-none-any.whl size=11955 sha256=391edef0e496076fb69ab6571b98e8d55b649d5f63fcf0424491bf3bae6cd56f\n",
      "  Stored in directory: /home/ec2-user/.cache/pip/wheels/07/2e/ce/e558b7d4f9aafcdc0e5638ef890a3d5166d8a0f2c2dc768379\n",
      "  Building wheel for shap (setup.py) ... \u001b[?25ldone\n",
      "\u001b[?25h  Created wheel for shap: filename=shap-0.39.0-cp36-cp36m-linux_x86_64.whl size=481374 sha256=884a1b0318ac3cdc2ba26ae4bfd8604cc6fe540f406340b89fe3495ee3e5d769\n",
      "  Stored in directory: /home/ec2-user/.cache/pip/wheels/6f/08/25/2992725334291786ea084e06cac493d93049b80e3470318a1b\n",
      "Successfully built flask-swagger termcolor stopit shap\n",
      "Installing collected packages: pyasn1-modules, oauthlib, cachetools, requests-oauthlib, google-auth, Werkzeug, tensorboard-plugin-wit, tensorboard-data-server, numpy, MarkupSafe, markdown, grpcio, google-auth-oauthlib, absl-py, termcolor, tensorflow-estimator, tensorboard, scipy, opt-einsum, keras-preprocessing, Jinja2, itsdangerous, h5py, gast, astunparse, xgboost, update-checker, tqdm, tensorflow, stopit, slicer, Flask, deap, TPOT, shap, keras, flask-swagger\n",
      "  Attempting uninstall: Werkzeug\n",
      "    Found existing installation: Werkzeug 1.0.1\n",
      "    Uninstalling Werkzeug-1.0.1:\n",
      "      Successfully uninstalled Werkzeug-1.0.1\n",
      "  Attempting uninstall: numpy\n",
      "    Found existing installation: numpy 1.19.5\n",
      "    Uninstalling numpy-1.19.5:\n",
      "      Successfully uninstalled numpy-1.19.5\n",
      "  Attempting uninstall: MarkupSafe\n",
      "    Found existing installation: MarkupSafe 1.1.1\n",
      "    Uninstalling MarkupSafe-1.1.1:\n",
      "      Successfully uninstalled MarkupSafe-1.1.1\n",
      "  Attempting uninstall: scipy\n",
      "    Found existing installation: scipy 1.5.3\n",
      "    Uninstalling scipy-1.5.3:\n",
      "      Successfully uninstalled scipy-1.5.3\n",
      "  Attempting uninstall: Jinja2\n",
      "    Found existing installation: Jinja2 2.11.3\n",
      "    Uninstalling Jinja2-2.11.3:\n",
      "      Successfully uninstalled Jinja2-2.11.3\n",
      "  Attempting uninstall: itsdangerous\n",
      "    Found existing installation: itsdangerous 1.1.0\n",
      "    Uninstalling itsdangerous-1.1.0:\n",
      "      Successfully uninstalled itsdangerous-1.1.0\n",
      "  Attempting uninstall: h5py\n",
      "    Found existing installation: h5py 3.1.0\n",
      "    Uninstalling h5py-3.1.0:\n",
      "      Successfully uninstalled h5py-3.1.0\n",
      "  Attempting uninstall: Flask\n",
      "    Found existing installation: Flask 1.1.2\n",
      "    Uninstalling Flask-1.1.2:\n",
      "      Successfully uninstalled Flask-1.1.2\n",
      "\u001b[31mERROR: pip's dependency resolver does not currently take into account all the packages that are installed. This behaviour is the source of the following dependency conflicts.\n",
      "anaconda-project 0.9.1 requires ruamel-yaml, which is not installed.\u001b[0m\n",
      "Successfully installed Flask-2.0.1 Jinja2-3.0.1 MarkupSafe-2.0.1 TPOT-0.11.7 Werkzeug-2.0.1 absl-py-0.13.0 astunparse-1.6.3 cachetools-4.2.2 deap-1.3.1 flask-swagger-0.2.14 gast-0.3.3 google-auth-1.32.0 google-auth-oauthlib-0.4.4 grpcio-1.38.1 h5py-2.10.0 itsdangerous-2.0.1 keras-2.4.0 keras-preprocessing-1.1.2 markdown-3.3.4 numpy-1.18.5 oauthlib-3.1.1 opt-einsum-3.3.0 pyasn1-modules-0.2.8 requests-oauthlib-1.3.0 scipy-1.4.1 shap-0.39.0 slicer-0.0.7 stopit-1.1.2 tensorboard-2.5.0 tensorboard-data-server-0.6.1 tensorboard-plugin-wit-1.8.0 tensorflow-2.3.0 tensorflow-estimator-2.3.0 termcolor-1.1.0 tqdm-4.61.1 update-checker-0.18.0 xgboost-1.4.2\n",
      "\u001b[33mWARNING: You are using pip version 21.1.2; however, version 21.1.3 is available.\n",
      "You should consider upgrading via the '/home/ec2-user/anaconda3/envs/python3/bin/python -m pip install --upgrade pip' command.\u001b[0m\n",
      "Collecting tensorflow-addons\n",
      "  Downloading tensorflow_addons-0.13.0-cp36-cp36m-manylinux2010_x86_64.whl (679 kB)\n",
      "\u001b[K     |████████████████████████████████| 679 kB 31.4 MB/s eta 0:00:01\n",
      "\u001b[?25hCollecting typeguard>=2.7\n",
      "  Downloading typeguard-2.12.1-py3-none-any.whl (17 kB)\n",
      "Installing collected packages: typeguard, tensorflow-addons\n",
      "Successfully installed tensorflow-addons-0.13.0 typeguard-2.12.1\n",
      "\u001b[33mWARNING: You are using pip version 21.1.2; however, version 21.1.3 is available.\n",
      "You should consider upgrading via the '/home/ec2-user/anaconda3/envs/python3/bin/python -m pip install --upgrade pip' command.\u001b[0m\n",
      "Requirement already satisfied: shap in /home/ec2-user/anaconda3/envs/python3/lib/python3.6/site-packages (0.39.0)\n",
      "Requirement already satisfied: scipy in /home/ec2-user/anaconda3/envs/python3/lib/python3.6/site-packages (from shap) (1.4.1)\n",
      "Requirement already satisfied: tqdm>4.25.0 in /home/ec2-user/anaconda3/envs/python3/lib/python3.6/site-packages (from shap) (4.61.1)\n",
      "Requirement already satisfied: scikit-learn in /home/ec2-user/anaconda3/envs/python3/lib/python3.6/site-packages (from shap) (0.24.1)\n",
      "Requirement already satisfied: numpy in /home/ec2-user/anaconda3/envs/python3/lib/python3.6/site-packages (from shap) (1.18.5)\n",
      "Requirement already satisfied: numba in /home/ec2-user/anaconda3/envs/python3/lib/python3.6/site-packages (from shap) (0.52.0)\n",
      "Requirement already satisfied: slicer==0.0.7 in /home/ec2-user/anaconda3/envs/python3/lib/python3.6/site-packages (from shap) (0.0.7)\n",
      "Requirement already satisfied: cloudpickle in /home/ec2-user/anaconda3/envs/python3/lib/python3.6/site-packages (from shap) (1.6.0)\n",
      "Requirement already satisfied: pandas in /home/ec2-user/anaconda3/envs/python3/lib/python3.6/site-packages (from shap) (1.1.5)\n",
      "Requirement already satisfied: setuptools in /home/ec2-user/anaconda3/envs/python3/lib/python3.6/site-packages (from numba->shap) (49.6.0.post20210108)\n",
      "Requirement already satisfied: llvmlite<0.36,>=0.35.0 in /home/ec2-user/anaconda3/envs/python3/lib/python3.6/site-packages (from numba->shap) (0.35.0)\n",
      "Requirement already satisfied: python-dateutil>=2.7.3 in /home/ec2-user/anaconda3/envs/python3/lib/python3.6/site-packages (from pandas->shap) (2.8.1)\n",
      "Requirement already satisfied: pytz>=2017.2 in /home/ec2-user/anaconda3/envs/python3/lib/python3.6/site-packages (from pandas->shap) (2021.1)\n",
      "Requirement already satisfied: six>=1.5 in /home/ec2-user/anaconda3/envs/python3/lib/python3.6/site-packages (from python-dateutil>=2.7.3->pandas->shap) (1.15.0)\n",
      "Requirement already satisfied: joblib>=0.11 in /home/ec2-user/anaconda3/envs/python3/lib/python3.6/site-packages (from scikit-learn->shap) (1.0.1)\n",
      "Requirement already satisfied: threadpoolctl>=2.0.0 in /home/ec2-user/anaconda3/envs/python3/lib/python3.6/site-packages (from scikit-learn->shap) (2.1.0)\n",
      "\u001b[33mWARNING: You are using pip version 21.1.2; however, version 21.1.3 is available.\n",
      "You should consider upgrading via the '/home/ec2-user/anaconda3/envs/python3/bin/python -m pip install --upgrade pip' command.\u001b[0m\n",
      "Requirement already satisfied: dask in /home/ec2-user/anaconda3/envs/python3/lib/python3.6/site-packages (2021.2.0)\n",
      "Requirement already satisfied: pyyaml in /home/ec2-user/anaconda3/envs/python3/lib/python3.6/site-packages (from dask) (5.4.1)\n",
      "\u001b[33mWARNING: You are using pip version 21.1.2; however, version 21.1.3 is available.\n",
      "You should consider upgrading via the '/home/ec2-user/anaconda3/envs/python3/bin/python -m pip install --upgrade pip' command.\u001b[0m\n",
      "Collecting dask-ml\n",
      "  Downloading dask_ml-1.9.0-py3-none-any.whl (143 kB)\n",
      "\u001b[K     |████████████████████████████████| 143 kB 19.3 MB/s eta 0:00:01\n",
      "\u001b[?25hRequirement already satisfied: scipy in /home/ec2-user/anaconda3/envs/python3/lib/python3.6/site-packages (from dask-ml) (1.4.1)\n",
      "Requirement already satisfied: numba>=0.51.0 in /home/ec2-user/anaconda3/envs/python3/lib/python3.6/site-packages (from dask-ml) (0.52.0)\n",
      "Requirement already satisfied: numpy>=1.17.3 in /home/ec2-user/anaconda3/envs/python3/lib/python3.6/site-packages (from dask-ml) (1.18.5)\n",
      "Requirement already satisfied: pandas>=0.24.2 in /home/ec2-user/anaconda3/envs/python3/lib/python3.6/site-packages (from dask-ml) (1.1.5)\n",
      "Requirement already satisfied: scikit-learn>=0.23 in /home/ec2-user/anaconda3/envs/python3/lib/python3.6/site-packages (from dask-ml) (0.24.1)\n",
      "Requirement already satisfied: packaging in /home/ec2-user/anaconda3/envs/python3/lib/python3.6/site-packages (from dask-ml) (20.9)\n",
      "Collecting dask-glm>=0.2.0\n",
      "  Downloading dask_glm-0.2.0-py2.py3-none-any.whl (12 kB)\n",
      "Requirement already satisfied: multipledispatch>=0.4.9 in /home/ec2-user/anaconda3/envs/python3/lib/python3.6/site-packages (from dask-ml) (0.6.0)\n",
      "Requirement already satisfied: distributed>=2.4.0 in /home/ec2-user/anaconda3/envs/python3/lib/python3.6/site-packages (from dask-ml) (2021.2.0)\n",
      "Requirement already satisfied: dask[array,dataframe]>=2.4.0 in /home/ec2-user/anaconda3/envs/python3/lib/python3.6/site-packages (from dask-ml) (2021.2.0)\n",
      "Requirement already satisfied: cloudpickle>=0.2.2 in /home/ec2-user/anaconda3/envs/python3/lib/python3.6/site-packages (from dask-glm>=0.2.0->dask-ml) (1.6.0)\n",
      "Requirement already satisfied: pyyaml in /home/ec2-user/anaconda3/envs/python3/lib/python3.6/site-packages (from dask[array,dataframe]>=2.4.0->dask-ml) (5.4.1)\n",
      "Requirement already satisfied: toolz>=0.8.2 in /home/ec2-user/anaconda3/envs/python3/lib/python3.6/site-packages (from dask[array,dataframe]>=2.4.0->dask-ml) (0.11.1)\n",
      "Requirement already satisfied: partd>=0.3.10 in /home/ec2-user/anaconda3/envs/python3/lib/python3.6/site-packages (from dask[array,dataframe]>=2.4.0->dask-ml) (1.1.0)\n",
      "Requirement already satisfied: fsspec>=0.6.0 in /home/ec2-user/anaconda3/envs/python3/lib/python3.6/site-packages (from dask[array,dataframe]>=2.4.0->dask-ml) (2021.4.0)\n",
      "Requirement already satisfied: contextvars in /home/ec2-user/anaconda3/envs/python3/lib/python3.6/site-packages (from distributed>=2.4.0->dask-ml) (2.4)\n",
      "Requirement already satisfied: tornado>=5 in /home/ec2-user/anaconda3/envs/python3/lib/python3.6/site-packages (from distributed>=2.4.0->dask-ml) (6.1)\n",
      "Requirement already satisfied: zict>=0.1.3 in /home/ec2-user/anaconda3/envs/python3/lib/python3.6/site-packages (from distributed>=2.4.0->dask-ml) (2.0.0)\n",
      "Requirement already satisfied: tblib>=1.6.0 in /home/ec2-user/anaconda3/envs/python3/lib/python3.6/site-packages (from distributed>=2.4.0->dask-ml) (1.6.0)\n",
      "Requirement already satisfied: psutil>=5.0 in /home/ec2-user/anaconda3/envs/python3/lib/python3.6/site-packages (from distributed>=2.4.0->dask-ml) (5.8.0)\n",
      "Requirement already satisfied: setuptools in /home/ec2-user/anaconda3/envs/python3/lib/python3.6/site-packages (from distributed>=2.4.0->dask-ml) (49.6.0.post20210108)\n",
      "Requirement already satisfied: click>=6.6 in /home/ec2-user/anaconda3/envs/python3/lib/python3.6/site-packages (from distributed>=2.4.0->dask-ml) (7.1.2)\n",
      "Requirement already satisfied: msgpack>=0.6.0 in /home/ec2-user/anaconda3/envs/python3/lib/python3.6/site-packages (from distributed>=2.4.0->dask-ml) (1.0.2)\n",
      "Requirement already satisfied: sortedcontainers!=2.0.0,!=2.0.1 in /home/ec2-user/anaconda3/envs/python3/lib/python3.6/site-packages (from distributed>=2.4.0->dask-ml) (2.3.0)\n",
      "Requirement already satisfied: six in /home/ec2-user/anaconda3/envs/python3/lib/python3.6/site-packages (from multipledispatch>=0.4.9->dask-ml) (1.15.0)\n",
      "Requirement already satisfied: llvmlite<0.36,>=0.35.0 in /home/ec2-user/anaconda3/envs/python3/lib/python3.6/site-packages (from numba>=0.51.0->dask-ml) (0.35.0)\n",
      "Requirement already satisfied: python-dateutil>=2.7.3 in /home/ec2-user/anaconda3/envs/python3/lib/python3.6/site-packages (from pandas>=0.24.2->dask-ml) (2.8.1)\n",
      "Requirement already satisfied: pytz>=2017.2 in /home/ec2-user/anaconda3/envs/python3/lib/python3.6/site-packages (from pandas>=0.24.2->dask-ml) (2021.1)\n",
      "Requirement already satisfied: locket in /home/ec2-user/anaconda3/envs/python3/lib/python3.6/site-packages (from partd>=0.3.10->dask[array,dataframe]>=2.4.0->dask-ml) (0.2.0)\n",
      "Requirement already satisfied: joblib>=0.11 in /home/ec2-user/anaconda3/envs/python3/lib/python3.6/site-packages (from scikit-learn>=0.23->dask-ml) (1.0.1)\n",
      "Requirement already satisfied: threadpoolctl>=2.0.0 in /home/ec2-user/anaconda3/envs/python3/lib/python3.6/site-packages (from scikit-learn>=0.23->dask-ml) (2.1.0)\n",
      "Requirement already satisfied: heapdict in /home/ec2-user/anaconda3/envs/python3/lib/python3.6/site-packages (from zict>=0.1.3->distributed>=2.4.0->dask-ml) (1.0.1)\n",
      "Requirement already satisfied: immutables>=0.9 in /home/ec2-user/anaconda3/envs/python3/lib/python3.6/site-packages (from contextvars->distributed>=2.4.0->dask-ml) (0.15)\n",
      "Requirement already satisfied: pyparsing>=2.0.2 in /home/ec2-user/anaconda3/envs/python3/lib/python3.6/site-packages (from packaging->dask-ml) (2.4.7)\n",
      "Installing collected packages: dask-glm, dask-ml\n",
      "Successfully installed dask-glm-0.2.0 dask-ml-1.9.0\n",
      "\u001b[33mWARNING: You are using pip version 21.1.2; however, version 21.1.3 is available.\n",
      "You should consider upgrading via the '/home/ec2-user/anaconda3/envs/python3/bin/python -m pip install --upgrade pip' command.\u001b[0m\n"
     ]
    }
   ],
   "source": [
    "!pip uninstall keras -y\n",
    "!pip uninstall keras-nightly -y\n",
    "!pip uninstall keras-Preprocessing -y\n",
    "!pip uninstall keras-vis -y\n",
    "!pip uninstall tensorflow -y\n",
    "!pip install -r requirements.txt\n",
    "!pip install tensorflow-addons\n",
    "!pip install shap\n",
    "!pip install dask\n",
    "!pip install dask-ml"
   ]
  },
  {
   "cell_type": "code",
   "execution_count": 1,
   "id": "14b6736a",
   "metadata": {},
   "outputs": [
    {
     "data": {
      "text/html": [
       "<table style=\"border: 2px solid white;\">\n",
       "<tr>\n",
       "<td style=\"vertical-align: top; border: 0px solid white\">\n",
       "<h3 style=\"text-align: left;\">Client</h3>\n",
       "<ul style=\"text-align: left; list-style: none; margin: 0; padding: 0;\">\n",
       "  <li><b>Scheduler: </b>tcp://127.0.0.1:35929</li>\n",
       "  <li><b>Dashboard: </b><a href='http://127.0.0.1:8787/status' target='_blank'>http://127.0.0.1:8787/status</a></li>\n",
       "</ul>\n",
       "</td>\n",
       "<td style=\"vertical-align: top; border: 0px solid white\">\n",
       "<h3 style=\"text-align: left;\">Cluster</h3>\n",
       "<ul style=\"text-align: left; list-style:none; margin: 0; padding: 0;\">\n",
       "  <li><b>Workers: </b>4</li>\n",
       "  <li><b>Cores: </b>4</li>\n",
       "  <li><b>Memory: </b>66.01 GB</li>\n",
       "</ul>\n",
       "</td>\n",
       "</tr>\n",
       "</table>"
      ],
      "text/plain": [
       "<Client: 'tcp://127.0.0.1:35929' processes=4 threads=4, memory=66.01 GB>"
      ]
     },
     "execution_count": 1,
     "metadata": {},
     "output_type": "execute_result"
    }
   ],
   "source": [
    "from dask.distributed import Client\n",
    "client = Client(n_workers=4, threads_per_worker=1)\n",
    "client"
   ]
  },
  {
   "cell_type": "markdown",
   "id": "9fdbe5f7",
   "metadata": {},
   "source": [
    "## Preprocessing"
   ]
  },
  {
   "cell_type": "code",
   "execution_count": 2,
   "id": "9d1ecd08",
   "metadata": {},
   "outputs": [
    {
     "name": "stderr",
     "output_type": "stream",
     "text": [
      "/home/ec2-user/anaconda3/envs/python3/lib/python3.6/site-packages/tpot/builtins/__init__.py:36: UserWarning: Warning: optional dependency `torch` is not available. - skipping import of NN models.\n",
      "  warnings.warn(\"Warning: optional dependency `torch` is not available. - skipping import of NN models.\")\n",
      "Using TensorFlow backend.\n"
     ]
    }
   ],
   "source": [
    "from groupby_user_conversion import GroupBy, FeatureSelection, Evaluation"
   ]
  },
  {
   "cell_type": "code",
   "execution_count": 3,
   "id": "5a2e28f8",
   "metadata": {
    "scrolled": false
   },
   "outputs": [],
   "source": [
    "g = GroupBy('raw_data.json')\n",
    "preprocessed_data = g.preprocessing_for_bin_class()"
   ]
  },
  {
   "cell_type": "code",
   "execution_count": 142,
   "id": "4157e890",
   "metadata": {},
   "outputs": [],
   "source": [
    "features = preprocessed_data['features'][preprocessed_data['features']['productPriceMean'] > 0]\n",
    "label = preprocessed_data['label'][preprocessed_data['features']['productPriceMean'] > 0]\n",
    "\n",
    "# features = preprocessed_data['features'][preprocessed_data['features']['timeOnSiteSeconds'] > 0]\n",
    "# label = preprocessed_data['label'][preprocessed_data['features']['timeOnSiteSeconds'] > 0]\n",
    "\n",
    "features = features.drop(columns=['sessionDuration','timeOnSiteSeconds','os','source','deviceCategory','events',\n",
    "                                  'bounce','has_campaign','browser'])\n",
    "all_os = preprocessed_data['all_os']\n",
    "all_source = preprocessed_data['all_source']"
   ]
  },
  {
   "cell_type": "code",
   "execution_count": 143,
   "id": "cd189768",
   "metadata": {
    "scrolled": true
   },
   "outputs": [
    {
     "name": "stdout",
     "output_type": "stream",
     "text": [
      "Feature \"uniqueNavigations\" is highly related to \"uniqueRefinements\". Remove \"uniqueNavigations\"\n",
      "Feature \"uniqueViewProducts\" is highly related to \"totalViewProducts\". Remove \"uniqueViewProducts\"\n",
      "Feature \"totalViewProductRevenue\" is highly related to \"totalViewProducts\". Remove \"totalViewProductRevenue\"\n",
      "Feature \"uniqueAddToCarts\" is highly related to \"totalAddToCarts\". Remove \"uniqueAddToCarts\"\n",
      "Feature \"totalAddToCartRevenue\" is highly related to \"totalAddToCarts\". Remove \"totalAddToCartRevenue\"\n",
      "19\n"
     ]
    },
    {
     "data": {
      "image/png": "[encoded data removed]",
      "text/plain": [
       "<Figure size 864x720 with 2 Axes>"
      ]
     },
     "metadata": {
      "needs_background": "light"
     },
     "output_type": "display_data"
    },
    {
     "name": "stdout",
     "output_type": "stream",
     "text": [
      "               score            feature\n",
      "feature 3   0.072150  totalViewProducts\n",
      "feature 8   0.057693  totalAddToCartQty\n",
      "feature 4   0.057067    totalAddToCarts\n",
      "feature 13  0.040262   productPriceMean\n",
      "feature 9   0.039301          hourOfDay\n",
      "feature 0   0.021227     uniqueSearches\n",
      "feature 1   0.020520      totalSearches\n"
     ]
    }
   ],
   "source": [
    "# Select features\n",
    "new_features = FeatureSelection.by_coorelation(features, debug=True)\n",
    "new_features = FeatureSelection.by_permutation_importance(x=new_features, y=label, debug=True)"
   ]
  },
  {
   "cell_type": "code",
   "execution_count": 144,
   "id": "69be198d",
   "metadata": {},
   "outputs": [],
   "source": [
    "filtered_new_features = new_features\n",
    "filtered_label = label"
   ]
  },
  {
   "cell_type": "code",
   "execution_count": 148,
   "id": "d41e4583",
   "metadata": {},
   "outputs": [
    {
     "name": "stdout",
     "output_type": "stream",
     "text": [
      "Conversion Rate is: 8.958713357141022%\n"
     ]
    }
   ],
   "source": [
    "conversion_rate = filtered_label[filtered_label['has_purchase']==1].count()*100/len(filtered_label)\n",
    "print(f'Conversion Rate is: {conversion_rate[\"has_purchase\"]}%')\n",
    "      "
   ]
  },
  {
   "cell_type": "code",
   "execution_count": 149,
   "id": "8eb033ab",
   "metadata": {},
   "outputs": [
    {
     "data": {
      "text/plain": [
       "has_purchase    10.162317\n",
       "dtype: float64"
      ]
     },
     "execution_count": 149,
     "metadata": {},
     "output_type": "execute_result"
    }
   ],
   "source": [
    "scale_pos_weight = filtered_label[filtered_label['has_purchase']==0].count() / filtered_label[filtered_label['has_purchase']==1].count()\n",
    "scale_pos_weight"
   ]
  },
  {
   "cell_type": "markdown",
   "id": "d05e7edf",
   "metadata": {},
   "source": [
    "## Model Training"
   ]
  },
  {
   "cell_type": "code",
   "execution_count": 150,
   "id": "95af4953",
   "metadata": {},
   "outputs": [],
   "source": [
    "from sklearn.model_selection import train_test_split\n",
    "\n",
    "\n",
    "x_train, x_test, y_train, y_test = train_test_split(\n",
    "    filtered_new_features.values, filtered_label, test_size=0.33, random_state=42)"
   ]
  },
  {
   "cell_type": "code",
   "execution_count": 132,
   "id": "a2514030",
   "metadata": {},
   "outputs": [],
   "source": [
    "import pickle\n",
    "pickle.dump(y_test, open(\"y_test\",\"wb\"))"
   ]
  },
  {
   "cell_type": "code",
   "execution_count": 151,
   "id": "38ffb322",
   "metadata": {},
   "outputs": [
    {
     "data": {
      "application/vnd.jupyter.widget-view+json": {
       "model_id": "",
       "version_major": 2,
       "version_minor": 0
      },
      "text/plain": [
       "Optimization Progress:   0%|          | 0/300 [00:00<?, ?pipeline/s]"
      ]
     },
     "metadata": {},
     "output_type": "display_data"
    },
    {
     "name": "stdout",
     "output_type": "stream",
     "text": [
      "\n",
      "Generation 1 - Current best internal CV score: 0.6312639239122475\n",
      "\n",
      "Generation 2 - Current best internal CV score: 0.6404350680880617\n",
      "\n",
      "Generation 3 - Current best internal CV score: 0.6404350680880617\n",
      "\n",
      "Generation 4 - Current best internal CV score: 0.6407909961735299\n",
      "\n",
      "Generation 5 - Current best internal CV score: 0.6437939575835527\n",
      "\n",
      "Best pipeline: GaussianNB(DecisionTreeClassifier(input_matrix, criterion=gini, max_depth=3, min_samples_leaf=16, min_samples_split=16))\n"
     ]
    },
    {
     "data": {
      "text/plain": [
       "TPOTClassifier(generations=5, population_size=50, random_state=42, scoring='f1',\n",
       "               use_dask=True, verbosity=2)"
      ]
     },
     "execution_count": 151,
     "metadata": {},
     "output_type": "execute_result"
    }
   ],
   "source": [
    "from tpot import TPOTClassifier\n",
    "tpot = TPOTClassifier(generations=5, population_size=50, verbosity=2, random_state=42, scoring=\"f1\",use_dask=True)\n",
    "tpot.fit(x_train, y_train.values.ravel())"
   ]
  },
  {
   "cell_type": "code",
   "execution_count": 154,
   "id": "1be5d9cd",
   "metadata": {},
   "outputs": [],
   "source": [
    "tpot.export('best_model_pipeline.py')"
   ]
  },
  {
   "cell_type": "code",
   "execution_count": 153,
   "id": "45e65dd4",
   "metadata": {},
   "outputs": [
    {
     "data": {
      "text/html": [
       "<div>\n",
       "<style scoped>\n",
       "    .dataframe tbody tr th:only-of-type {\n",
       "        vertical-align: middle;\n",
       "    }\n",
       "\n",
       "    .dataframe tbody tr th {\n",
       "        vertical-align: top;\n",
       "    }\n",
       "\n",
       "    .dataframe thead th {\n",
       "        text-align: right;\n",
       "    }\n",
       "</style>\n",
       "<table border=\"1\" class=\"dataframe\">\n",
       "  <thead>\n",
       "    <tr style=\"text-align: right;\">\n",
       "      <th></th>\n",
       "      <th>0</th>\n",
       "      <th>1</th>\n",
       "      <th>accuracy</th>\n",
       "      <th>macro avg</th>\n",
       "      <th>weighted avg</th>\n",
       "    </tr>\n",
       "  </thead>\n",
       "  <tbody>\n",
       "    <tr>\n",
       "      <th>precision</th>\n",
       "      <td>0.974275</td>\n",
       "      <td>0.552511</td>\n",
       "      <td>0.923939</td>\n",
       "      <td>0.763393</td>\n",
       "      <td>0.936909</td>\n",
       "    </tr>\n",
       "    <tr>\n",
       "      <th>recall</th>\n",
       "      <td>0.941403</td>\n",
       "      <td>0.744288</td>\n",
       "      <td>0.923939</td>\n",
       "      <td>0.842845</td>\n",
       "      <td>0.923939</td>\n",
       "    </tr>\n",
       "    <tr>\n",
       "      <th>f1-score</th>\n",
       "      <td>0.957557</td>\n",
       "      <td>0.634219</td>\n",
       "      <td>0.923939</td>\n",
       "      <td>0.795888</td>\n",
       "      <td>0.928911</td>\n",
       "    </tr>\n",
       "    <tr>\n",
       "      <th>support</th>\n",
       "      <td>11707.000000</td>\n",
       "      <td>1138.000000</td>\n",
       "      <td>0.923939</td>\n",
       "      <td>12845.000000</td>\n",
       "      <td>12845.000000</td>\n",
       "    </tr>\n",
       "  </tbody>\n",
       "</table>\n",
       "</div>"
      ],
      "text/plain": [
       "                      0            1  accuracy     macro avg  weighted avg\n",
       "precision      0.974275     0.552511  0.923939      0.763393      0.936909\n",
       "recall         0.941403     0.744288  0.923939      0.842845      0.923939\n",
       "f1-score       0.957557     0.634219  0.923939      0.795888      0.928911\n",
       "support    11707.000000  1138.000000  0.923939  12845.000000  12845.000000"
      ]
     },
     "execution_count": 153,
     "metadata": {},
     "output_type": "execute_result"
    }
   ],
   "source": [
    "results = tpot.predict(x_test)\n",
    "Evaluation.evaluate_model(x_test, y_test, tpot)"
   ]
  },
  {
   "cell_type": "code",
   "execution_count": 156,
   "id": "18c7dba6",
   "metadata": {},
   "outputs": [
    {
     "data": {
      "text/html": [
       "<div>\n",
       "<style scoped>\n",
       "    .dataframe tbody tr th:only-of-type {\n",
       "        vertical-align: middle;\n",
       "    }\n",
       "\n",
       "    .dataframe tbody tr th {\n",
       "        vertical-align: top;\n",
       "    }\n",
       "\n",
       "    .dataframe thead th {\n",
       "        text-align: right;\n",
       "    }\n",
       "</style>\n",
       "<table border=\"1\" class=\"dataframe\">\n",
       "  <thead>\n",
       "    <tr style=\"text-align: right;\">\n",
       "      <th></th>\n",
       "      <th>0</th>\n",
       "      <th>1</th>\n",
       "      <th>accuracy</th>\n",
       "      <th>macro avg</th>\n",
       "      <th>weighted avg</th>\n",
       "    </tr>\n",
       "  </thead>\n",
       "  <tbody>\n",
       "    <tr>\n",
       "      <th>precision</th>\n",
       "      <td>0.975851</td>\n",
       "      <td>0.561688</td>\n",
       "      <td>0.926197</td>\n",
       "      <td>0.768770</td>\n",
       "      <td>0.939159</td>\n",
       "    </tr>\n",
       "    <tr>\n",
       "      <th>recall</th>\n",
       "      <td>0.942342</td>\n",
       "      <td>0.760105</td>\n",
       "      <td>0.926197</td>\n",
       "      <td>0.851224</td>\n",
       "      <td>0.926197</td>\n",
       "    </tr>\n",
       "    <tr>\n",
       "      <th>f1-score</th>\n",
       "      <td>0.958804</td>\n",
       "      <td>0.646004</td>\n",
       "      <td>0.926197</td>\n",
       "      <td>0.802404</td>\n",
       "      <td>0.931092</td>\n",
       "    </tr>\n",
       "    <tr>\n",
       "      <th>support</th>\n",
       "      <td>11707.000000</td>\n",
       "      <td>1138.000000</td>\n",
       "      <td>0.926197</td>\n",
       "      <td>12845.000000</td>\n",
       "      <td>12845.000000</td>\n",
       "    </tr>\n",
       "  </tbody>\n",
       "</table>\n",
       "</div>"
      ],
      "text/plain": [
       "                      0            1  accuracy     macro avg  weighted avg\n",
       "precision      0.975851     0.561688  0.926197      0.768770      0.939159\n",
       "recall         0.942342     0.760105  0.926197      0.851224      0.926197\n",
       "f1-score       0.958804     0.646004  0.926197      0.802404      0.931092\n",
       "support    11707.000000  1138.000000  0.926197  12845.000000  12845.000000"
      ]
     },
     "execution_count": 156,
     "metadata": {},
     "output_type": "execute_result"
    }
   ],
   "source": [
    "import numpy as np\n",
    "import pandas as pd\n",
    "from sklearn.model_selection import train_test_split\n",
    "from sklearn.naive_bayes import GaussianNB\n",
    "from sklearn.pipeline import make_pipeline, make_union\n",
    "from tpot.builtins import StackingEstimator\n",
    "from xgboost import XGBClassifier\n",
    "from tpot.export_utils import set_param_recursive\n",
    "\n",
    "\n",
    "exported_pipeline = make_pipeline(\n",
    "    StackingEstimator(estimator=XGBClassifier(learning_rate=0.001, max_depth=6, min_child_weight=10, n_estimators=100, n_jobs=1, subsample=0.4, verbosity=0)),\n",
    "    GaussianNB()\n",
    ")\n",
    "# Fix random state for all the steps in exported pipeline\n",
    "set_param_recursive(exported_pipeline.steps, 'random_state', 42)\n",
    "\n",
    "exported_pipeline.fit(x_train, y_train)\n",
    "results = exported_pipeline.predict(x_test)\n",
    "\n",
    "Evaluation.evaluate_model(x_test, y_test, exported_pipeline)"
   ]
  },
  {
   "cell_type": "code",
   "execution_count": 94,
   "id": "a40ee973",
   "metadata": {},
   "outputs": [
    {
     "data": {
      "text/plain": [
       "['stacking.joblib']"
      ]
     },
     "execution_count": 94,
     "metadata": {},
     "output_type": "execute_result"
    }
   ],
   "source": [
    "from joblib import dump, load\n",
    "dump(exported_pipeline, 'stacking.joblib') "
   ]
  },
  {
   "cell_type": "markdown",
   "id": "13b75b16",
   "metadata": {},
   "source": [
    "## Sequential Model Training"
   ]
  },
  {
   "cell_type": "code",
   "execution_count": 8,
   "id": "e4970076",
   "metadata": {},
   "outputs": [
    {
     "data": {
      "image/png": "[encoded data removed]",
      "text/plain": [
       "<Figure size 432x288 with 1 Axes>"
      ]
     },
     "metadata": {
      "needs_background": "light"
     },
     "output_type": "display_data"
    }
   ],
   "source": [
    "preprocessed_data_for_lstm = g.preprocessing_for_sequence_model(num_of_events=40, debug=True)"
   ]
  },
  {
   "cell_type": "code",
   "execution_count": 4,
   "id": "d95588d4",
   "metadata": {
    "scrolled": true
   },
   "outputs": [
    {
     "name": "stdout",
     "output_type": "stream",
     "text": [
      "Epoch 1/100\n",
      "27/27 [==============================] - 1s 50ms/step - loss: 0.6594 - f1_score: 0.5018 - val_loss: 0.6180 - val_f1_score: 0.4800\n",
      "Epoch 2/100\n",
      "27/27 [==============================] - 0s 10ms/step - loss: 0.5747 - f1_score: 0.4854 - val_loss: 0.5222 - val_f1_score: 0.4908\n",
      "Epoch 3/100\n",
      "27/27 [==============================] - 0s 10ms/step - loss: 0.4714 - f1_score: 0.5321 - val_loss: 0.4174 - val_f1_score: 0.5628\n",
      "Epoch 4/100\n",
      "27/27 [==============================] - 0s 10ms/step - loss: 0.3726 - f1_score: 0.5754 - val_loss: 0.3280 - val_f1_score: 0.5283\n",
      "Epoch 5/100\n",
      "27/27 [==============================] - 0s 10ms/step - loss: 0.3001 - f1_score: 0.5472 - val_loss: 0.2688 - val_f1_score: 0.5233\n",
      "Epoch 6/100\n",
      "27/27 [==============================] - 0s 10ms/step - loss: 0.2561 - f1_score: 0.5582 - val_loss: 0.2360 - val_f1_score: 0.5428\n",
      "Epoch 7/100\n",
      "27/27 [==============================] - 0s 10ms/step - loss: 0.2331 - f1_score: 0.5671 - val_loss: 0.2184 - val_f1_score: 0.5609\n",
      "Epoch 8/100\n",
      "27/27 [==============================] - 0s 10ms/step - loss: 0.2185 - f1_score: 0.5941 - val_loss: 0.2079 - val_f1_score: 0.5469\n",
      "Epoch 9/100\n",
      "27/27 [==============================] - 0s 10ms/step - loss: 0.2109 - f1_score: 0.5816 - val_loss: 0.2018 - val_f1_score: 0.5715\n",
      "Epoch 10/100\n",
      "27/27 [==============================] - 0s 10ms/step - loss: 0.2050 - f1_score: 0.6051 - val_loss: 0.1963 - val_f1_score: 0.5487\n",
      "Epoch 11/100\n",
      "27/27 [==============================] - 0s 10ms/step - loss: 0.2008 - f1_score: 0.6000 - val_loss: 0.1931 - val_f1_score: 0.5719\n",
      "Epoch 12/100\n",
      "27/27 [==============================] - 0s 10ms/step - loss: 0.1973 - f1_score: 0.6172 - val_loss: 0.1896 - val_f1_score: 0.5706\n",
      "Epoch 13/100\n",
      "27/27 [==============================] - 0s 10ms/step - loss: 0.1935 - f1_score: 0.6238 - val_loss: 0.1868 - val_f1_score: 0.5804\n",
      "Epoch 14/100\n",
      "27/27 [==============================] - 0s 10ms/step - loss: 0.1905 - f1_score: 0.6328 - val_loss: 0.1838 - val_f1_score: 0.5803\n",
      "Epoch 15/100\n",
      "27/27 [==============================] - 0s 10ms/step - loss: 0.1884 - f1_score: 0.6302 - val_loss: 0.1811 - val_f1_score: 0.5842\n",
      "Epoch 16/100\n",
      "27/27 [==============================] - 0s 10ms/step - loss: 0.1850 - f1_score: 0.6399 - val_loss: 0.1784 - val_f1_score: 0.5905\n",
      "Epoch 17/100\n",
      "27/27 [==============================] - 0s 10ms/step - loss: 0.1817 - f1_score: 0.6475 - val_loss: 0.1764 - val_f1_score: 0.6306\n",
      "Epoch 18/100\n",
      "27/27 [==============================] - 0s 10ms/step - loss: 0.1791 - f1_score: 0.6620 - val_loss: 0.1746 - val_f1_score: 0.6383\n",
      "Epoch 19/100\n",
      "27/27 [==============================] - 0s 10ms/step - loss: 0.1772 - f1_score: 0.6683 - val_loss: 0.1709 - val_f1_score: 0.6255\n",
      "Epoch 20/100\n",
      "27/27 [==============================] - 0s 10ms/step - loss: 0.1741 - f1_score: 0.6812 - val_loss: 0.1677 - val_f1_score: 0.6298\n",
      "Epoch 21/100\n",
      "27/27 [==============================] - 0s 10ms/step - loss: 0.1706 - f1_score: 0.6894 - val_loss: 0.1663 - val_f1_score: 0.6630\n",
      "Epoch 22/100\n",
      "27/27 [==============================] - 0s 10ms/step - loss: 0.1677 - f1_score: 0.7003 - val_loss: 0.1623 - val_f1_score: 0.6876\n",
      "Epoch 23/100\n",
      "27/27 [==============================] - 0s 10ms/step - loss: 0.1645 - f1_score: 0.7205 - val_loss: 0.1599 - val_f1_score: 0.6680\n",
      "Epoch 24/100\n",
      "27/27 [==============================] - 0s 10ms/step - loss: 0.1618 - f1_score: 0.7256 - val_loss: 0.1566 - val_f1_score: 0.6994\n",
      "Epoch 25/100\n",
      "27/27 [==============================] - 0s 10ms/step - loss: 0.1588 - f1_score: 0.7311 - val_loss: 0.1538 - val_f1_score: 0.7070\n",
      "Epoch 26/100\n",
      "27/27 [==============================] - 0s 10ms/step - loss: 0.1557 - f1_score: 0.7476 - val_loss: 0.1513 - val_f1_score: 0.7021\n",
      "Epoch 27/100\n",
      "27/27 [==============================] - 0s 10ms/step - loss: 0.1530 - f1_score: 0.7457 - val_loss: 0.1486 - val_f1_score: 0.7506\n",
      "Epoch 28/100\n",
      "27/27 [==============================] - 0s 10ms/step - loss: 0.1500 - f1_score: 0.7602 - val_loss: 0.1466 - val_f1_score: 0.7414\n",
      "Epoch 29/100\n",
      "27/27 [==============================] - 0s 10ms/step - loss: 0.1478 - f1_score: 0.7593 - val_loss: 0.1442 - val_f1_score: 0.7729\n",
      "Epoch 30/100\n",
      "27/27 [==============================] - 0s 10ms/step - loss: 0.1449 - f1_score: 0.7765 - val_loss: 0.1416 - val_f1_score: 0.7677\n",
      "Epoch 31/100\n",
      "27/27 [==============================] - 0s 10ms/step - loss: 0.1418 - f1_score: 0.7824 - val_loss: 0.1380 - val_f1_score: 0.7661\n",
      "Epoch 32/100\n",
      "27/27 [==============================] - 0s 10ms/step - loss: 0.1394 - f1_score: 0.7864 - val_loss: 0.1362 - val_f1_score: 0.7724\n",
      "Epoch 33/100\n",
      "27/27 [==============================] - 0s 10ms/step - loss: 0.1372 - f1_score: 0.7931 - val_loss: 0.1336 - val_f1_score: 0.7722\n",
      "Epoch 34/100\n",
      "27/27 [==============================] - 0s 10ms/step - loss: 0.1349 - f1_score: 0.7921 - val_loss: 0.1333 - val_f1_score: 0.7998\n",
      "Epoch 35/100\n",
      "27/27 [==============================] - 0s 10ms/step - loss: 0.1318 - f1_score: 0.7971 - val_loss: 0.1282 - val_f1_score: 0.7888\n",
      "Epoch 36/100\n",
      "27/27 [==============================] - 0s 10ms/step - loss: 0.1292 - f1_score: 0.8082 - val_loss: 0.1270 - val_f1_score: 0.7928\n",
      "Epoch 37/100\n",
      "27/27 [==============================] - 0s 10ms/step - loss: 0.1269 - f1_score: 0.8194 - val_loss: 0.1240 - val_f1_score: 0.8178\n",
      "Epoch 38/100\n",
      "27/27 [==============================] - 0s 10ms/step - loss: 0.1252 - f1_score: 0.8303 - val_loss: 0.1232 - val_f1_score: 0.8344\n",
      "Epoch 39/100\n",
      "27/27 [==============================] - 0s 10ms/step - loss: 0.1227 - f1_score: 0.8380 - val_loss: 0.1227 - val_f1_score: 0.8369\n",
      "Epoch 40/100\n",
      "27/27 [==============================] - 0s 10ms/step - loss: 0.1209 - f1_score: 0.8454 - val_loss: 0.1208 - val_f1_score: 0.8176\n",
      "Epoch 41/100\n",
      "27/27 [==============================] - 0s 10ms/step - loss: 0.1191 - f1_score: 0.8485 - val_loss: 0.1154 - val_f1_score: 0.8382\n",
      "Epoch 42/100\n",
      "27/27 [==============================] - 0s 10ms/step - loss: 0.1163 - f1_score: 0.8497 - val_loss: 0.1147 - val_f1_score: 0.8383\n",
      "Epoch 43/100\n",
      "27/27 [==============================] - 0s 10ms/step - loss: 0.1134 - f1_score: 0.8529 - val_loss: 0.1102 - val_f1_score: 0.8419\n",
      "Epoch 44/100\n",
      "27/27 [==============================] - 0s 10ms/step - loss: 0.1112 - f1_score: 0.8555 - val_loss: 0.1090 - val_f1_score: 0.8411\n",
      "Epoch 45/100\n",
      "27/27 [==============================] - 0s 10ms/step - loss: 0.1094 - f1_score: 0.8546 - val_loss: 0.1085 - val_f1_score: 0.8425\n",
      "Epoch 46/100\n",
      "27/27 [==============================] - 0s 10ms/step - loss: 0.1073 - f1_score: 0.8574 - val_loss: 0.1038 - val_f1_score: 0.8491\n",
      "Epoch 47/100\n",
      "27/27 [==============================] - 0s 10ms/step - loss: 0.1050 - f1_score: 0.8615 - val_loss: 0.1019 - val_f1_score: 0.8488\n",
      "Epoch 48/100\n",
      "27/27 [==============================] - 0s 10ms/step - loss: 0.1047 - f1_score: 0.8618 - val_loss: 0.1000 - val_f1_score: 0.8484\n",
      "Epoch 49/100\n",
      "27/27 [==============================] - 0s 10ms/step - loss: 0.1020 - f1_score: 0.8621 - val_loss: 0.0978 - val_f1_score: 0.8622\n",
      "Epoch 50/100\n",
      "27/27 [==============================] - 0s 10ms/step - loss: 0.1001 - f1_score: 0.8666 - val_loss: 0.0967 - val_f1_score: 0.8565\n",
      "Epoch 51/100\n",
      "27/27 [==============================] - 0s 10ms/step - loss: 0.0980 - f1_score: 0.8656 - val_loss: 0.0947 - val_f1_score: 0.8656\n",
      "Epoch 52/100\n",
      "27/27 [==============================] - 0s 10ms/step - loss: 0.0951 - f1_score: 0.8715 - val_loss: 0.0927 - val_f1_score: 0.8599\n",
      "Epoch 53/100\n",
      "27/27 [==============================] - 0s 10ms/step - loss: 0.0943 - f1_score: 0.8687 - val_loss: 0.0907 - val_f1_score: 0.8720\n",
      "Epoch 54/100\n",
      "27/27 [==============================] - 0s 10ms/step - loss: 0.0915 - f1_score: 0.8767 - val_loss: 0.0893 - val_f1_score: 0.8722\n",
      "Epoch 55/100\n",
      "27/27 [==============================] - 0s 10ms/step - loss: 0.0913 - f1_score: 0.8757 - val_loss: 0.0871 - val_f1_score: 0.8716\n",
      "Epoch 56/100\n",
      "27/27 [==============================] - 0s 10ms/step - loss: 0.0879 - f1_score: 0.8820 - val_loss: 0.0853 - val_f1_score: 0.8815\n",
      "Epoch 57/100\n",
      "27/27 [==============================] - 0s 10ms/step - loss: 0.0866 - f1_score: 0.9024 - val_loss: 0.0837 - val_f1_score: 0.9245\n",
      "Epoch 58/100\n",
      "27/27 [==============================] - 0s 10ms/step - loss: 0.0848 - f1_score: 0.9229 - val_loss: 0.0830 - val_f1_score: 0.9195\n",
      "Epoch 59/100\n",
      "27/27 [==============================] - 0s 10ms/step - loss: 0.0846 - f1_score: 0.9237 - val_loss: 0.0806 - val_f1_score: 0.9299\n",
      "Epoch 60/100\n",
      "27/27 [==============================] - 0s 10ms/step - loss: 0.0823 - f1_score: 0.9294 - val_loss: 0.0821 - val_f1_score: 0.9219\n",
      "Epoch 61/100\n",
      "27/27 [==============================] - 0s 10ms/step - loss: 0.0809 - f1_score: 0.9310 - val_loss: 0.0790 - val_f1_score: 0.9328\n",
      "Epoch 62/100\n",
      "27/27 [==============================] - 0s 10ms/step - loss: 0.0808 - f1_score: 0.9306 - val_loss: 0.0781 - val_f1_score: 0.9374\n",
      "Epoch 63/100\n",
      "27/27 [==============================] - 0s 10ms/step - loss: 0.0797 - f1_score: 0.9332 - val_loss: 0.0760 - val_f1_score: 0.9336\n",
      "Epoch 64/100\n",
      "27/27 [==============================] - 0s 10ms/step - loss: 0.0776 - f1_score: 0.9351 - val_loss: 0.0759 - val_f1_score: 0.9366\n",
      "Epoch 65/100\n",
      "27/27 [==============================] - 0s 10ms/step - loss: 0.0770 - f1_score: 0.9343 - val_loss: 0.0759 - val_f1_score: 0.9343\n",
      "Epoch 66/100\n",
      "27/27 [==============================] - 0s 10ms/step - loss: 0.0753 - f1_score: 0.9374 - val_loss: 0.0735 - val_f1_score: 0.9351\n",
      "Epoch 67/100\n",
      "27/27 [==============================] - 0s 11ms/step - loss: 0.0747 - f1_score: 0.9374 - val_loss: 0.0727 - val_f1_score: 0.9262\n",
      "Epoch 68/100\n",
      "27/27 [==============================] - 0s 11ms/step - loss: 0.0735 - f1_score: 0.9369 - val_loss: 0.0716 - val_f1_score: 0.9368\n",
      "Epoch 69/100\n",
      "27/27 [==============================] - 0s 10ms/step - loss: 0.0726 - f1_score: 0.9394 - val_loss: 0.0731 - val_f1_score: 0.9352\n",
      "Epoch 70/100\n",
      "27/27 [==============================] - 0s 10ms/step - loss: 0.0715 - f1_score: 0.9376 - val_loss: 0.0706 - val_f1_score: 0.9366\n",
      "Epoch 71/100\n",
      "27/27 [==============================] - 0s 10ms/step - loss: 0.0712 - f1_score: 0.9413 - val_loss: 0.0704 - val_f1_score: 0.9381\n",
      "Epoch 72/100\n",
      "27/27 [==============================] - 0s 10ms/step - loss: 0.0702 - f1_score: 0.9406 - val_loss: 0.0711 - val_f1_score: 0.9380\n",
      "Epoch 73/100\n",
      "27/27 [==============================] - 0s 10ms/step - loss: 0.0706 - f1_score: 0.9364 - val_loss: 0.0679 - val_f1_score: 0.9345\n",
      "Epoch 74/100\n",
      "27/27 [==============================] - 0s 10ms/step - loss: 0.0687 - f1_score: 0.9428 - val_loss: 0.0679 - val_f1_score: 0.9359\n",
      "Epoch 75/100\n",
      "27/27 [==============================] - 0s 10ms/step - loss: 0.0677 - f1_score: 0.9415 - val_loss: 0.0690 - val_f1_score: 0.9365\n",
      "Epoch 76/100\n",
      "27/27 [==============================] - 0s 10ms/step - loss: 0.0673 - f1_score: 0.9428 - val_loss: 0.0675 - val_f1_score: 0.9398\n",
      "Epoch 77/100\n",
      "27/27 [==============================] - 0s 10ms/step - loss: 0.0675 - f1_score: 0.9404 - val_loss: 0.0700 - val_f1_score: 0.9386\n",
      "Epoch 78/100\n",
      "27/27 [==============================] - 0s 10ms/step - loss: 0.0662 - f1_score: 0.9439 - val_loss: 0.0641 - val_f1_score: 0.9419\n",
      "Epoch 79/100\n",
      "27/27 [==============================] - 0s 10ms/step - loss: 0.0661 - f1_score: 0.9423 - val_loss: 0.0642 - val_f1_score: 0.9430\n",
      "Epoch 80/100\n",
      "27/27 [==============================] - 0s 10ms/step - loss: 0.0651 - f1_score: 0.9441 - val_loss: 0.0640 - val_f1_score: 0.9428\n",
      "Epoch 81/100\n",
      "27/27 [==============================] - 0s 10ms/step - loss: 0.0645 - f1_score: 0.9434 - val_loss: 0.0700 - val_f1_score: 0.9327\n",
      "Epoch 82/100\n",
      "27/27 [==============================] - 0s 10ms/step - loss: 0.0644 - f1_score: 0.9442 - val_loss: 0.0631 - val_f1_score: 0.9399\n",
      "Epoch 83/100\n",
      "27/27 [==============================] - 0s 10ms/step - loss: 0.0638 - f1_score: 0.9459 - val_loss: 0.0615 - val_f1_score: 0.9444\n",
      "Epoch 84/100\n",
      "27/27 [==============================] - 0s 10ms/step - loss: 0.0632 - f1_score: 0.9451 - val_loss: 0.0667 - val_f1_score: 0.9399\n",
      "Epoch 85/100\n",
      "27/27 [==============================] - 0s 10ms/step - loss: 0.0631 - f1_score: 0.9442 - val_loss: 0.0616 - val_f1_score: 0.9444\n",
      "Epoch 86/100\n",
      "27/27 [==============================] - 0s 10ms/step - loss: 0.0630 - f1_score: 0.9442 - val_loss: 0.0645 - val_f1_score: 0.9397\n",
      "Epoch 87/100\n",
      "27/27 [==============================] - 0s 10ms/step - loss: 0.0629 - f1_score: 0.9447 - val_loss: 0.0608 - val_f1_score: 0.9454\n",
      "Epoch 88/100\n",
      "27/27 [==============================] - 0s 10ms/step - loss: 0.0621 - f1_score: 0.9455 - val_loss: 0.0621 - val_f1_score: 0.9414\n",
      "Epoch 89/100\n",
      "27/27 [==============================] - 0s 10ms/step - loss: 0.0615 - f1_score: 0.9462 - val_loss: 0.0601 - val_f1_score: 0.9453\n",
      "Epoch 90/100\n",
      "27/27 [==============================] - 0s 10ms/step - loss: 0.0614 - f1_score: 0.9470 - val_loss: 0.0595 - val_f1_score: 0.9480\n",
      "Epoch 91/100\n",
      "27/27 [==============================] - 0s 10ms/step - loss: 0.0605 - f1_score: 0.9465 - val_loss: 0.0604 - val_f1_score: 0.9411\n",
      "Epoch 92/100\n",
      "27/27 [==============================] - 0s 10ms/step - loss: 0.0603 - f1_score: 0.9463 - val_loss: 0.0610 - val_f1_score: 0.9439\n",
      "Epoch 93/100\n",
      "27/27 [==============================] - 0s 10ms/step - loss: 0.0597 - f1_score: 0.9472 - val_loss: 0.0595 - val_f1_score: 0.9460\n",
      "Epoch 94/100\n",
      "27/27 [==============================] - 0s 10ms/step - loss: 0.0604 - f1_score: 0.9474 - val_loss: 0.0598 - val_f1_score: 0.9450\n",
      "Epoch 95/100\n",
      "27/27 [==============================] - 0s 10ms/step - loss: 0.0600 - f1_score: 0.9475 - val_loss: 0.0592 - val_f1_score: 0.9465\n",
      "Epoch 96/100\n",
      "27/27 [==============================] - 0s 10ms/step - loss: 0.0610 - f1_score: 0.9459 - val_loss: 0.0604 - val_f1_score: 0.9452\n",
      "Epoch 97/100\n",
      "27/27 [==============================] - 0s 10ms/step - loss: 0.0594 - f1_score: 0.9468 - val_loss: 0.0584 - val_f1_score: 0.9472\n",
      "Epoch 98/100\n",
      "27/27 [==============================] - 0s 10ms/step - loss: 0.0586 - f1_score: 0.9479 - val_loss: 0.0571 - val_f1_score: 0.9501\n",
      "Epoch 99/100\n",
      "27/27 [==============================] - 0s 10ms/step - loss: 0.0585 - f1_score: 0.9479 - val_loss: 0.0579 - val_f1_score: 0.9500\n",
      "Epoch 100/100\n",
      "27/27 [==============================] - 0s 10ms/step - loss: 0.0584 - f1_score: 0.9497 - val_loss: 0.0577 - val_f1_score: 0.9487\n",
      "dict_keys(['loss', 'f1_score', 'val_loss', 'val_f1_score'])\n"
     ]
    },
    {
     "data": {
      "image/png": "[encoded data removed]",
      "text/plain": [
       "<Figure size 432x288 with 1 Axes>"
      ]
     },
     "metadata": {
      "needs_background": "light"
     },
     "output_type": "display_data"
    },
    {
     "data": {
      "image/png": "[encoded data removed]",
      "text/plain": [
       "<Figure size 432x288 with 1 Axes>"
      ]
     },
     "metadata": {
      "needs_background": "light"
     },
     "output_type": "display_data"
    },
    {
     "name": "stdout",
     "output_type": "stream",
     "text": [
      "WARNING:tensorflow:From /home/ec2-user/SageMaker/groupby_user_conversion.py:87: Sequential.predict_classes (from tensorflow.python.keras.engine.sequential) is deprecated and will be removed after 2021-01-01.\n",
      "Instructions for updating:\n",
      "Please use instead:* `np.argmax(model.predict(x), axis=-1)`,   if your model does multi-class classification   (e.g. if it uses a `softmax` last-layer activation).* `(model.predict(x) > 0.5).astype(\"int32\")`,   if your model does binary classification   (e.g. if it uses a `sigmoid` last-layer activation).\n",
      "Accuracy: 0.982808\n",
      "Precision: 0.937931\n",
      "Recall: 0.840247\n",
      "F1 score: 0.886406\n"
     ]
    }
   ],
   "source": [
    "lstm_model, test_x, test_y, train_x, train_y = GroupBy.train_lstm(\n",
    "    preprocessed_data_for_lstm['features'], preprocessed_data_for_lstm['label'], threshold=0.5, epochs=100,op=40)\n",
    "Evaluation.plot_history(lstm_model.history)\n",
    "Evaluation.evaluate_nn_model(test_x, test_y, lstm_model)"
   ]
  },
  {
   "cell_type": "code",
   "execution_count": 5,
   "id": "ca38178e",
   "metadata": {
    "scrolled": true
   },
   "outputs": [
    {
     "name": "stdout",
     "output_type": "stream",
     "text": [
      "Epoch 1/100\n",
      "27/27 [==============================] - 1s 50ms/step - loss: 0.6547 - f1_score: 0.0000e+00 - val_loss: 0.6129 - val_f1_score: 0.0000e+00\n",
      "Epoch 2/100\n",
      "27/27 [==============================] - 0s 10ms/step - loss: 0.5691 - f1_score: 0.0028 - val_loss: 0.5169 - val_f1_score: 0.0207\n",
      "Epoch 3/100\n",
      "27/27 [==============================] - 0s 10ms/step - loss: 0.4661 - f1_score: 0.0889 - val_loss: 0.4110 - val_f1_score: 0.1879\n",
      "Epoch 4/100\n",
      "27/27 [==============================] - 0s 10ms/step - loss: 0.3692 - f1_score: 0.2219 - val_loss: 0.3230 - val_f1_score: 0.2680\n",
      "Epoch 5/100\n",
      "27/27 [==============================] - 0s 10ms/step - loss: 0.2980 - f1_score: 0.4021 - val_loss: 0.2660 - val_f1_score: 0.4722\n",
      "Epoch 6/100\n",
      "27/27 [==============================] - 0s 10ms/step - loss: 0.2556 - f1_score: 0.4708 - val_loss: 0.2344 - val_f1_score: 0.4697\n",
      "Epoch 7/100\n",
      "27/27 [==============================] - 0s 10ms/step - loss: 0.2335 - f1_score: 0.4678 - val_loss: 0.2175 - val_f1_score: 0.4668\n",
      "Epoch 8/100\n",
      "27/27 [==============================] - 0s 10ms/step - loss: 0.2217 - f1_score: 0.4656 - val_loss: 0.2078 - val_f1_score: 0.4649\n",
      "Epoch 9/100\n",
      "27/27 [==============================] - 0s 10ms/step - loss: 0.2142 - f1_score: 0.4654 - val_loss: 0.2012 - val_f1_score: 0.4638\n",
      "Epoch 10/100\n",
      "27/27 [==============================] - 0s 10ms/step - loss: 0.2086 - f1_score: 0.4641 - val_loss: 0.1963 - val_f1_score: 0.4639\n",
      "Epoch 11/100\n",
      "27/27 [==============================] - 0s 10ms/step - loss: 0.2046 - f1_score: 0.4633 - val_loss: 0.1924 - val_f1_score: 0.4658\n",
      "Epoch 12/100\n",
      "27/27 [==============================] - 0s 10ms/step - loss: 0.2005 - f1_score: 0.4627 - val_loss: 0.1886 - val_f1_score: 0.4610\n",
      "Epoch 13/100\n",
      "27/27 [==============================] - 0s 10ms/step - loss: 0.1971 - f1_score: 0.4633 - val_loss: 0.1855 - val_f1_score: 0.4613\n",
      "Epoch 14/100\n",
      "27/27 [==============================] - 0s 10ms/step - loss: 0.1943 - f1_score: 0.4629 - val_loss: 0.1824 - val_f1_score: 0.4611\n",
      "Epoch 15/100\n",
      "27/27 [==============================] - 0s 10ms/step - loss: 0.1909 - f1_score: 0.4667 - val_loss: 0.1797 - val_f1_score: 0.4642\n",
      "Epoch 16/100\n",
      "27/27 [==============================] - 0s 10ms/step - loss: 0.1886 - f1_score: 0.4655 - val_loss: 0.1772 - val_f1_score: 0.4680\n",
      "Epoch 17/100\n",
      "27/27 [==============================] - 0s 10ms/step - loss: 0.1855 - f1_score: 0.4701 - val_loss: 0.1745 - val_f1_score: 0.4772\n",
      "Epoch 18/100\n",
      "27/27 [==============================] - 0s 10ms/step - loss: 0.1830 - f1_score: 0.4702 - val_loss: 0.1723 - val_f1_score: 0.4804\n",
      "Epoch 19/100\n",
      "27/27 [==============================] - 0s 10ms/step - loss: 0.1816 - f1_score: 0.4789 - val_loss: 0.1693 - val_f1_score: 0.4820\n",
      "Epoch 20/100\n",
      "27/27 [==============================] - 0s 10ms/step - loss: 0.1782 - f1_score: 0.4830 - val_loss: 0.1667 - val_f1_score: 0.4837\n",
      "Epoch 21/100\n",
      "27/27 [==============================] - 0s 10ms/step - loss: 0.1752 - f1_score: 0.4866 - val_loss: 0.1639 - val_f1_score: 0.4895\n",
      "Epoch 22/100\n",
      "27/27 [==============================] - 0s 10ms/step - loss: 0.1727 - f1_score: 0.4951 - val_loss: 0.1616 - val_f1_score: 0.5049\n",
      "Epoch 23/100\n",
      "27/27 [==============================] - 0s 10ms/step - loss: 0.1695 - f1_score: 0.5076 - val_loss: 0.1586 - val_f1_score: 0.5026\n",
      "Epoch 24/100\n",
      "27/27 [==============================] - 0s 10ms/step - loss: 0.1665 - f1_score: 0.5128 - val_loss: 0.1565 - val_f1_score: 0.5063\n",
      "Epoch 25/100\n",
      "27/27 [==============================] - 0s 10ms/step - loss: 0.1646 - f1_score: 0.5234 - val_loss: 0.1532 - val_f1_score: 0.5213\n",
      "Epoch 26/100\n",
      "27/27 [==============================] - 0s 10ms/step - loss: 0.1615 - f1_score: 0.5365 - val_loss: 0.1512 - val_f1_score: 0.5226\n",
      "Epoch 27/100\n",
      "27/27 [==============================] - 0s 10ms/step - loss: 0.1583 - f1_score: 0.5463 - val_loss: 0.1476 - val_f1_score: 0.5387\n",
      "Epoch 28/100\n",
      "27/27 [==============================] - 0s 10ms/step - loss: 0.1555 - f1_score: 0.5622 - val_loss: 0.1457 - val_f1_score: 0.5299\n",
      "Epoch 29/100\n",
      "27/27 [==============================] - 0s 10ms/step - loss: 0.1536 - f1_score: 0.5632 - val_loss: 0.1426 - val_f1_score: 0.6094\n",
      "Epoch 30/100\n",
      "27/27 [==============================] - 0s 10ms/step - loss: 0.1507 - f1_score: 0.5832 - val_loss: 0.1400 - val_f1_score: 0.5907\n",
      "Epoch 31/100\n",
      "27/27 [==============================] - 0s 10ms/step - loss: 0.1475 - f1_score: 0.5986 - val_loss: 0.1378 - val_f1_score: 0.5733\n",
      "Epoch 32/100\n",
      "27/27 [==============================] - 0s 10ms/step - loss: 0.1455 - f1_score: 0.6039 - val_loss: 0.1347 - val_f1_score: 0.6356\n",
      "Epoch 33/100\n",
      "27/27 [==============================] - 0s 10ms/step - loss: 0.1416 - f1_score: 0.6190 - val_loss: 0.1322 - val_f1_score: 0.6477\n",
      "Epoch 34/100\n",
      "27/27 [==============================] - 0s 10ms/step - loss: 0.1396 - f1_score: 0.6390 - val_loss: 0.1298 - val_f1_score: 0.6283\n",
      "Epoch 35/100\n",
      "27/27 [==============================] - 0s 10ms/step - loss: 0.1373 - f1_score: 0.6523 - val_loss: 0.1274 - val_f1_score: 0.6529\n",
      "Epoch 36/100\n",
      "27/27 [==============================] - 0s 10ms/step - loss: 0.1347 - f1_score: 0.6667 - val_loss: 0.1252 - val_f1_score: 0.6660\n",
      "Epoch 37/100\n",
      "27/27 [==============================] - 0s 10ms/step - loss: 0.1325 - f1_score: 0.6809 - val_loss: 0.1228 - val_f1_score: 0.6877\n",
      "Epoch 38/100\n",
      "27/27 [==============================] - 0s 10ms/step - loss: 0.1294 - f1_score: 0.6871 - val_loss: 0.1213 - val_f1_score: 0.6683\n",
      "Epoch 39/100\n",
      "27/27 [==============================] - 0s 10ms/step - loss: 0.1283 - f1_score: 0.6994 - val_loss: 0.1192 - val_f1_score: 0.7058\n",
      "Epoch 40/100\n",
      "27/27 [==============================] - 0s 10ms/step - loss: 0.1252 - f1_score: 0.7127 - val_loss: 0.1173 - val_f1_score: 0.7256\n",
      "Epoch 41/100\n",
      "27/27 [==============================] - 0s 10ms/step - loss: 0.1225 - f1_score: 0.7241 - val_loss: 0.1164 - val_f1_score: 0.7426\n",
      "Epoch 42/100\n",
      "27/27 [==============================] - 0s 10ms/step - loss: 0.1211 - f1_score: 0.7327 - val_loss: 0.1125 - val_f1_score: 0.7335\n",
      "Epoch 43/100\n",
      "27/27 [==============================] - 0s 10ms/step - loss: 0.1183 - f1_score: 0.7455 - val_loss: 0.1112 - val_f1_score: 0.7132\n",
      "Epoch 44/100\n",
      "27/27 [==============================] - 0s 10ms/step - loss: 0.1172 - f1_score: 0.7410 - val_loss: 0.1084 - val_f1_score: 0.7422\n",
      "Epoch 45/100\n",
      "27/27 [==============================] - 0s 10ms/step - loss: 0.1147 - f1_score: 0.7510 - val_loss: 0.1069 - val_f1_score: 0.7417\n",
      "Epoch 46/100\n",
      "27/27 [==============================] - 0s 10ms/step - loss: 0.1115 - f1_score: 0.7547 - val_loss: 0.1049 - val_f1_score: 0.7390\n",
      "Epoch 47/100\n",
      "27/27 [==============================] - 0s 10ms/step - loss: 0.1104 - f1_score: 0.7524 - val_loss: 0.1044 - val_f1_score: 0.7736\n",
      "Epoch 48/100\n",
      "27/27 [==============================] - 0s 10ms/step - loss: 0.1084 - f1_score: 0.7696 - val_loss: 0.1027 - val_f1_score: 0.7342\n",
      "Epoch 49/100\n",
      "27/27 [==============================] - 0s 10ms/step - loss: 0.1061 - f1_score: 0.7678 - val_loss: 0.0987 - val_f1_score: 0.7569\n",
      "Epoch 50/100\n",
      "27/27 [==============================] - 0s 10ms/step - loss: 0.1041 - f1_score: 0.7743 - val_loss: 0.0968 - val_f1_score: 0.7565\n",
      "Epoch 51/100\n",
      "27/27 [==============================] - 0s 10ms/step - loss: 0.1024 - f1_score: 0.7740 - val_loss: 0.0951 - val_f1_score: 0.7513\n",
      "Epoch 52/100\n",
      "27/27 [==============================] - 0s 10ms/step - loss: 0.1001 - f1_score: 0.7801 - val_loss: 0.0929 - val_f1_score: 0.7618\n",
      "Epoch 53/100\n",
      "27/27 [==============================] - 0s 10ms/step - loss: 0.0982 - f1_score: 0.7855 - val_loss: 0.0913 - val_f1_score: 0.7693\n",
      "Epoch 54/100\n",
      "27/27 [==============================] - 0s 10ms/step - loss: 0.0961 - f1_score: 0.7901 - val_loss: 0.0894 - val_f1_score: 0.7765\n",
      "Epoch 55/100\n",
      "27/27 [==============================] - 0s 10ms/step - loss: 0.0949 - f1_score: 0.7913 - val_loss: 0.0912 - val_f1_score: 0.8164\n",
      "Epoch 56/100\n",
      "27/27 [==============================] - 0s 10ms/step - loss: 0.0931 - f1_score: 0.8042 - val_loss: 0.0857 - val_f1_score: 0.7951\n",
      "Epoch 57/100\n",
      "27/27 [==============================] - 0s 10ms/step - loss: 0.0910 - f1_score: 0.8099 - val_loss: 0.0845 - val_f1_score: 0.7728\n",
      "Epoch 58/100\n",
      "27/27 [==============================] - 0s 10ms/step - loss: 0.0898 - f1_score: 0.8102 - val_loss: 0.0826 - val_f1_score: 0.8372\n",
      "Epoch 59/100\n",
      "27/27 [==============================] - 0s 10ms/step - loss: 0.0874 - f1_score: 0.8250 - val_loss: 0.0860 - val_f1_score: 0.7473\n",
      "Epoch 60/100\n",
      "27/27 [==============================] - 0s 10ms/step - loss: 0.0854 - f1_score: 0.8266 - val_loss: 0.0794 - val_f1_score: 0.8418\n",
      "Epoch 61/100\n",
      "27/27 [==============================] - 0s 10ms/step - loss: 0.0845 - f1_score: 0.8337 - val_loss: 0.0791 - val_f1_score: 0.8217\n",
      "Epoch 62/100\n",
      "27/27 [==============================] - 0s 10ms/step - loss: 0.0826 - f1_score: 0.8406 - val_loss: 0.0781 - val_f1_score: 0.8259\n",
      "Epoch 63/100\n",
      "27/27 [==============================] - 0s 10ms/step - loss: 0.0812 - f1_score: 0.8398 - val_loss: 0.0768 - val_f1_score: 0.8484\n",
      "Epoch 64/100\n",
      "27/27 [==============================] - 0s 10ms/step - loss: 0.0807 - f1_score: 0.8448 - val_loss: 0.0741 - val_f1_score: 0.8456\n",
      "Epoch 65/100\n",
      "27/27 [==============================] - 0s 10ms/step - loss: 0.0802 - f1_score: 0.8490 - val_loss: 0.0732 - val_f1_score: 0.8488\n",
      "Epoch 66/100\n",
      "27/27 [==============================] - 0s 10ms/step - loss: 0.0777 - f1_score: 0.8533 - val_loss: 0.0732 - val_f1_score: 0.8712\n",
      "Epoch 67/100\n",
      "27/27 [==============================] - 0s 10ms/step - loss: 0.0767 - f1_score: 0.8557 - val_loss: 0.0716 - val_f1_score: 0.8536\n",
      "Epoch 68/100\n",
      "27/27 [==============================] - 0s 10ms/step - loss: 0.0764 - f1_score: 0.8611 - val_loss: 0.0706 - val_f1_score: 0.8755\n",
      "Epoch 69/100\n",
      "27/27 [==============================] - 0s 10ms/step - loss: 0.0758 - f1_score: 0.8622 - val_loss: 0.0703 - val_f1_score: 0.8821\n",
      "Epoch 70/100\n",
      "27/27 [==============================] - 0s 10ms/step - loss: 0.0747 - f1_score: 0.8719 - val_loss: 0.0684 - val_f1_score: 0.8695\n",
      "Epoch 71/100\n",
      "27/27 [==============================] - 0s 10ms/step - loss: 0.0727 - f1_score: 0.8690 - val_loss: 0.0679 - val_f1_score: 0.8753\n",
      "Epoch 72/100\n",
      "27/27 [==============================] - 0s 10ms/step - loss: 0.0724 - f1_score: 0.8800 - val_loss: 0.0674 - val_f1_score: 0.8786\n",
      "Epoch 73/100\n",
      "27/27 [==============================] - 0s 10ms/step - loss: 0.0711 - f1_score: 0.8876 - val_loss: 0.0666 - val_f1_score: 0.8728\n",
      "Epoch 74/100\n",
      "27/27 [==============================] - 0s 10ms/step - loss: 0.0709 - f1_score: 0.8990 - val_loss: 0.0664 - val_f1_score: 0.9209\n",
      "Epoch 75/100\n",
      "27/27 [==============================] - 0s 10ms/step - loss: 0.0711 - f1_score: 0.9083 - val_loss: 0.0650 - val_f1_score: 0.9189\n",
      "Epoch 76/100\n",
      "27/27 [==============================] - 0s 10ms/step - loss: 0.0691 - f1_score: 0.9161 - val_loss: 0.0642 - val_f1_score: 0.9164\n",
      "Epoch 77/100\n",
      "27/27 [==============================] - 0s 10ms/step - loss: 0.0686 - f1_score: 0.9176 - val_loss: 0.0638 - val_f1_score: 0.9263\n",
      "Epoch 78/100\n",
      "27/27 [==============================] - 0s 10ms/step - loss: 0.0684 - f1_score: 0.9208 - val_loss: 0.0643 - val_f1_score: 0.9131\n",
      "Epoch 79/100\n",
      "27/27 [==============================] - 0s 10ms/step - loss: 0.0686 - f1_score: 0.9196 - val_loss: 0.0649 - val_f1_score: 0.9348\n",
      "Epoch 80/100\n",
      "27/27 [==============================] - 0s 10ms/step - loss: 0.0681 - f1_score: 0.9220 - val_loss: 0.0620 - val_f1_score: 0.9192\n",
      "Epoch 81/100\n",
      "27/27 [==============================] - 0s 10ms/step - loss: 0.0664 - f1_score: 0.9215 - val_loss: 0.0615 - val_f1_score: 0.9225\n",
      "Epoch 82/100\n",
      "27/27 [==============================] - 0s 10ms/step - loss: 0.0661 - f1_score: 0.9226 - val_loss: 0.0617 - val_f1_score: 0.9323\n",
      "Epoch 83/100\n",
      "27/27 [==============================] - 0s 10ms/step - loss: 0.0661 - f1_score: 0.9237 - val_loss: 0.0635 - val_f1_score: 0.9040\n",
      "Epoch 84/100\n",
      "27/27 [==============================] - 0s 10ms/step - loss: 0.0661 - f1_score: 0.9232 - val_loss: 0.0606 - val_f1_score: 0.9191\n",
      "Epoch 85/100\n",
      "27/27 [==============================] - 0s 10ms/step - loss: 0.0645 - f1_score: 0.9248 - val_loss: 0.0600 - val_f1_score: 0.9235\n",
      "Epoch 86/100\n",
      "27/27 [==============================] - 0s 10ms/step - loss: 0.0640 - f1_score: 0.9240 - val_loss: 0.0605 - val_f1_score: 0.9231\n",
      "Epoch 87/100\n",
      "27/27 [==============================] - 0s 10ms/step - loss: 0.0648 - f1_score: 0.9265 - val_loss: 0.0598 - val_f1_score: 0.9281\n",
      "Epoch 88/100\n",
      "27/27 [==============================] - 0s 10ms/step - loss: 0.0637 - f1_score: 0.9259 - val_loss: 0.0614 - val_f1_score: 0.9134\n",
      "Epoch 89/100\n",
      "27/27 [==============================] - 0s 10ms/step - loss: 0.0644 - f1_score: 0.9248 - val_loss: 0.0596 - val_f1_score: 0.9378\n",
      "Epoch 90/100\n",
      "27/27 [==============================] - 0s 10ms/step - loss: 0.0635 - f1_score: 0.9258 - val_loss: 0.0591 - val_f1_score: 0.9285\n",
      "Epoch 91/100\n",
      "27/27 [==============================] - 0s 10ms/step - loss: 0.0621 - f1_score: 0.9281 - val_loss: 0.0593 - val_f1_score: 0.9207\n",
      "Epoch 92/100\n",
      "27/27 [==============================] - 0s 10ms/step - loss: 0.0624 - f1_score: 0.9293 - val_loss: 0.0587 - val_f1_score: 0.9311\n",
      "Epoch 93/100\n",
      "27/27 [==============================] - 0s 10ms/step - loss: 0.0617 - f1_score: 0.9276 - val_loss: 0.0584 - val_f1_score: 0.9376\n",
      "Epoch 94/100\n",
      "27/27 [==============================] - 0s 10ms/step - loss: 0.0622 - f1_score: 0.9303 - val_loss: 0.0573 - val_f1_score: 0.9290\n",
      "Epoch 95/100\n",
      "27/27 [==============================] - 0s 10ms/step - loss: 0.0610 - f1_score: 0.9276 - val_loss: 0.0582 - val_f1_score: 0.9410\n",
      "Epoch 96/100\n",
      "27/27 [==============================] - 0s 10ms/step - loss: 0.0604 - f1_score: 0.9301 - val_loss: 0.0566 - val_f1_score: 0.9344\n",
      "Epoch 97/100\n",
      "27/27 [==============================] - 0s 10ms/step - loss: 0.0604 - f1_score: 0.9306 - val_loss: 0.0565 - val_f1_score: 0.9384\n",
      "Epoch 98/100\n",
      "27/27 [==============================] - 0s 10ms/step - loss: 0.0598 - f1_score: 0.9324 - val_loss: 0.0564 - val_f1_score: 0.9372\n",
      "Epoch 99/100\n",
      "27/27 [==============================] - 0s 10ms/step - loss: 0.0602 - f1_score: 0.9303 - val_loss: 0.0564 - val_f1_score: 0.9353\n",
      "Epoch 100/100\n",
      "27/27 [==============================] - 0s 10ms/step - loss: 0.0614 - f1_score: 0.9304 - val_loss: 0.0559 - val_f1_score: 0.9377\n",
      "dict_keys(['loss', 'f1_score', 'val_loss', 'val_f1_score'])\n"
     ]
    },
    {
     "data": {
      "image/png": "[encoded data removed]",
      "text/plain": [
       "<Figure size 432x288 with 1 Axes>"
      ]
     },
     "metadata": {
      "needs_background": "light"
     },
     "output_type": "display_data"
    },
    {
     "data": {
      "image/png": "[encoded data removed]",
      "text/plain": [
       "<Figure size 432x288 with 1 Axes>"
      ]
     },
     "metadata": {
      "needs_background": "light"
     },
     "output_type": "display_data"
    },
    {
     "name": "stdout",
     "output_type": "stream",
     "text": [
      "Accuracy: 0.981822\n",
      "Precision: 0.934476\n",
      "Recall: 0.827679\n",
      "F1 score: 0.877841\n"
     ]
    }
   ],
   "source": [
    "lstm_model, test_x, test_y, train_x, train_y = GroupBy.train_lstm(\n",
    "    preprocessed_data_for_lstm['features'], preprocessed_data_for_lstm['label'], threshold=0.8, epochs=100,op=40)\n",
    "Evaluation.plot_history(lstm_model.history)\n",
    "Evaluation.evaluate_nn_model(test_x, test_y, lstm_model)"
   ]
  },
  {
   "cell_type": "code",
   "execution_count": 15,
   "id": "10d9d8ac",
   "metadata": {},
   "outputs": [
    {
     "name": "stdout",
     "output_type": "stream",
     "text": [
      "INFO:tensorflow:Assets written to: lstm_model/assets\n"
     ]
    }
   ],
   "source": [
    "# lstm_model.save('lstm_model')"
   ]
  },
  {
   "cell_type": "code",
   "execution_count": 9,
   "id": "0d2ddca7",
   "metadata": {
    "scrolled": false
   },
   "outputs": [
    {
     "name": "stdout",
     "output_type": "stream",
     "text": [
      "Epoch 1/100\n",
      "27/27 [==============================] - 1s 49ms/step - loss: 0.6524 - f1_score: 0.0000e+00 - val_loss: 0.6079 - val_f1_score: 0.0000e+00\n",
      "Epoch 2/100\n",
      "27/27 [==============================] - 0s 10ms/step - loss: 0.5654 - f1_score: 0.0000e+00 - val_loss: 0.5113 - val_f1_score: 0.0000e+00\n",
      "Epoch 3/100\n",
      "27/27 [==============================] - 0s 10ms/step - loss: 0.4664 - f1_score: 0.0096 - val_loss: 0.4093 - val_f1_score: 0.0278\n",
      "Epoch 4/100\n",
      "27/27 [==============================] - 0s 10ms/step - loss: 0.3724 - f1_score: 0.0925 - val_loss: 0.3242 - val_f1_score: 0.1794\n",
      "Epoch 5/100\n",
      "27/27 [==============================] - 0s 10ms/step - loss: 0.3031 - f1_score: 0.1887 - val_loss: 0.2678 - val_f1_score: 0.2087\n",
      "Epoch 6/100\n",
      "27/27 [==============================] - 0s 10ms/step - loss: 0.2604 - f1_score: 0.2449 - val_loss: 0.2348 - val_f1_score: 0.2404\n",
      "Epoch 7/100\n",
      "27/27 [==============================] - 0s 10ms/step - loss: 0.2361 - f1_score: 0.3981 - val_loss: 0.2168 - val_f1_score: 0.4618\n",
      "Epoch 8/100\n",
      "27/27 [==============================] - 0s 10ms/step - loss: 0.2228 - f1_score: 0.4538 - val_loss: 0.2059 - val_f1_score: 0.4593\n",
      "Epoch 9/100\n",
      "27/27 [==============================] - 0s 10ms/step - loss: 0.2139 - f1_score: 0.4544 - val_loss: 0.1991 - val_f1_score: 0.4559\n",
      "Epoch 10/100\n",
      "27/27 [==============================] - 0s 10ms/step - loss: 0.2084 - f1_score: 0.4538 - val_loss: 0.1938 - val_f1_score: 0.4549\n",
      "Epoch 11/100\n",
      "27/27 [==============================] - 0s 10ms/step - loss: 0.2039 - f1_score: 0.4530 - val_loss: 0.1899 - val_f1_score: 0.4518\n",
      "Epoch 12/100\n",
      "27/27 [==============================] - 0s 10ms/step - loss: 0.2000 - f1_score: 0.4526 - val_loss: 0.1862 - val_f1_score: 0.4531\n",
      "Epoch 13/100\n",
      "27/27 [==============================] - 0s 10ms/step - loss: 0.1962 - f1_score: 0.4524 - val_loss: 0.1830 - val_f1_score: 0.4532\n",
      "Epoch 14/100\n",
      "27/27 [==============================] - 0s 10ms/step - loss: 0.1926 - f1_score: 0.4525 - val_loss: 0.1796 - val_f1_score: 0.4549\n",
      "Epoch 15/100\n",
      "27/27 [==============================] - 0s 10ms/step - loss: 0.1894 - f1_score: 0.4530 - val_loss: 0.1769 - val_f1_score: 0.4555\n",
      "Epoch 16/100\n",
      "27/27 [==============================] - 0s 10ms/step - loss: 0.1867 - f1_score: 0.4527 - val_loss: 0.1739 - val_f1_score: 0.4555\n",
      "Epoch 17/100\n",
      "27/27 [==============================] - 0s 10ms/step - loss: 0.1831 - f1_score: 0.4527 - val_loss: 0.1716 - val_f1_score: 0.4555\n",
      "Epoch 18/100\n",
      "27/27 [==============================] - 0s 10ms/step - loss: 0.1803 - f1_score: 0.4530 - val_loss: 0.1692 - val_f1_score: 0.4556\n",
      "Epoch 19/100\n",
      "27/27 [==============================] - 0s 10ms/step - loss: 0.1776 - f1_score: 0.4536 - val_loss: 0.1660 - val_f1_score: 0.4589\n",
      "Epoch 20/100\n",
      "27/27 [==============================] - 0s 10ms/step - loss: 0.1740 - f1_score: 0.4544 - val_loss: 0.1643 - val_f1_score: 0.4586\n",
      "Epoch 21/100\n",
      "27/27 [==============================] - 0s 10ms/step - loss: 0.1717 - f1_score: 0.4563 - val_loss: 0.1609 - val_f1_score: 0.4589\n",
      "Epoch 22/100\n",
      "27/27 [==============================] - 0s 10ms/step - loss: 0.1678 - f1_score: 0.4589 - val_loss: 0.1587 - val_f1_score: 0.4642\n",
      "Epoch 23/100\n",
      "27/27 [==============================] - 0s 10ms/step - loss: 0.1654 - f1_score: 0.4637 - val_loss: 0.1554 - val_f1_score: 0.4621\n",
      "Epoch 24/100\n",
      "27/27 [==============================] - 0s 10ms/step - loss: 0.1622 - f1_score: 0.4707 - val_loss: 0.1535 - val_f1_score: 0.4739\n",
      "Epoch 25/100\n",
      "27/27 [==============================] - 0s 10ms/step - loss: 0.1587 - f1_score: 0.4801 - val_loss: 0.1514 - val_f1_score: 0.4847\n",
      "Epoch 26/100\n",
      "27/27 [==============================] - 0s 10ms/step - loss: 0.1560 - f1_score: 0.4861 - val_loss: 0.1482 - val_f1_score: 0.4830\n",
      "Epoch 27/100\n",
      "27/27 [==============================] - 0s 10ms/step - loss: 0.1531 - f1_score: 0.4998 - val_loss: 0.1455 - val_f1_score: 0.4907\n",
      "Epoch 28/100\n",
      "27/27 [==============================] - 0s 10ms/step - loss: 0.1501 - f1_score: 0.5055 - val_loss: 0.1431 - val_f1_score: 0.4928\n",
      "Epoch 29/100\n",
      "27/27 [==============================] - 0s 10ms/step - loss: 0.1472 - f1_score: 0.5140 - val_loss: 0.1405 - val_f1_score: 0.5181\n",
      "Epoch 30/100\n",
      "27/27 [==============================] - 0s 10ms/step - loss: 0.1445 - f1_score: 0.5279 - val_loss: 0.1384 - val_f1_score: 0.4970\n",
      "Epoch 31/100\n",
      "27/27 [==============================] - 0s 10ms/step - loss: 0.1418 - f1_score: 0.5311 - val_loss: 0.1359 - val_f1_score: 0.5473\n",
      "Epoch 32/100\n",
      "27/27 [==============================] - 0s 10ms/step - loss: 0.1386 - f1_score: 0.5428 - val_loss: 0.1328 - val_f1_score: 0.5420\n",
      "Epoch 33/100\n",
      "27/27 [==============================] - 0s 10ms/step - loss: 0.1363 - f1_score: 0.5566 - val_loss: 0.1308 - val_f1_score: 0.5281\n",
      "Epoch 34/100\n",
      "27/27 [==============================] - 0s 10ms/step - loss: 0.1338 - f1_score: 0.5629 - val_loss: 0.1284 - val_f1_score: 0.5578\n",
      "Epoch 35/100\n",
      "27/27 [==============================] - 0s 10ms/step - loss: 0.1318 - f1_score: 0.5647 - val_loss: 0.1263 - val_f1_score: 0.5662\n",
      "Epoch 36/100\n",
      "27/27 [==============================] - 0s 10ms/step - loss: 0.1289 - f1_score: 0.5871 - val_loss: 0.1244 - val_f1_score: 0.5743\n",
      "Epoch 37/100\n",
      "27/27 [==============================] - 0s 10ms/step - loss: 0.1262 - f1_score: 0.5900 - val_loss: 0.1223 - val_f1_score: 0.5892\n",
      "Epoch 38/100\n",
      "27/27 [==============================] - 0s 10ms/step - loss: 0.1246 - f1_score: 0.6006 - val_loss: 0.1208 - val_f1_score: 0.6156\n",
      "Epoch 39/100\n",
      "27/27 [==============================] - 0s 10ms/step - loss: 0.1216 - f1_score: 0.6117 - val_loss: 0.1196 - val_f1_score: 0.6273\n",
      "Epoch 40/100\n",
      "27/27 [==============================] - 0s 10ms/step - loss: 0.1200 - f1_score: 0.6194 - val_loss: 0.1155 - val_f1_score: 0.6129\n",
      "Epoch 41/100\n",
      "27/27 [==============================] - 0s 10ms/step - loss: 0.1188 - f1_score: 0.6390 - val_loss: 0.1159 - val_f1_score: 0.5878\n",
      "Epoch 42/100\n",
      "27/27 [==============================] - 0s 10ms/step - loss: 0.1157 - f1_score: 0.6421 - val_loss: 0.1127 - val_f1_score: 0.6365\n",
      "Epoch 43/100\n",
      "27/27 [==============================] - 0s 10ms/step - loss: 0.1127 - f1_score: 0.6612 - val_loss: 0.1104 - val_f1_score: 0.6621\n",
      "Epoch 44/100\n",
      "27/27 [==============================] - 0s 10ms/step - loss: 0.1104 - f1_score: 0.6652 - val_loss: 0.1088 - val_f1_score: 0.6776\n",
      "Epoch 45/100\n",
      "27/27 [==============================] - 0s 10ms/step - loss: 0.1092 - f1_score: 0.6758 - val_loss: 0.1078 - val_f1_score: 0.6749\n",
      "Epoch 46/100\n",
      "27/27 [==============================] - 0s 10ms/step - loss: 0.1070 - f1_score: 0.6887 - val_loss: 0.1054 - val_f1_score: 0.7080\n",
      "Epoch 47/100\n",
      "27/27 [==============================] - 0s 10ms/step - loss: 0.1048 - f1_score: 0.6952 - val_loss: 0.1046 - val_f1_score: 0.7112\n",
      "Epoch 48/100\n",
      "27/27 [==============================] - 0s 10ms/step - loss: 0.1031 - f1_score: 0.7008 - val_loss: 0.1014 - val_f1_score: 0.7057\n",
      "Epoch 49/100\n",
      "27/27 [==============================] - 0s 10ms/step - loss: 0.1005 - f1_score: 0.7070 - val_loss: 0.1002 - val_f1_score: 0.7257\n",
      "Epoch 50/100\n",
      "27/27 [==============================] - 0s 10ms/step - loss: 0.0980 - f1_score: 0.7206 - val_loss: 0.0987 - val_f1_score: 0.6996\n",
      "Epoch 51/100\n",
      "27/27 [==============================] - 0s 10ms/step - loss: 0.0969 - f1_score: 0.7170 - val_loss: 0.0964 - val_f1_score: 0.6949\n",
      "Epoch 52/100\n",
      "27/27 [==============================] - 0s 10ms/step - loss: 0.0956 - f1_score: 0.7247 - val_loss: 0.0941 - val_f1_score: 0.7099\n",
      "Epoch 53/100\n",
      "27/27 [==============================] - 0s 10ms/step - loss: 0.0925 - f1_score: 0.7354 - val_loss: 0.0931 - val_f1_score: 0.7272\n",
      "Epoch 54/100\n",
      "27/27 [==============================] - 0s 10ms/step - loss: 0.0907 - f1_score: 0.7387 - val_loss: 0.0917 - val_f1_score: 0.7241\n",
      "Epoch 55/100\n",
      "27/27 [==============================] - 0s 10ms/step - loss: 0.0887 - f1_score: 0.7386 - val_loss: 0.0917 - val_f1_score: 0.7298\n",
      "Epoch 56/100\n",
      "27/27 [==============================] - 0s 10ms/step - loss: 0.0874 - f1_score: 0.7425 - val_loss: 0.0891 - val_f1_score: 0.7259\n",
      "Epoch 57/100\n",
      "27/27 [==============================] - 0s 10ms/step - loss: 0.0859 - f1_score: 0.7500 - val_loss: 0.0882 - val_f1_score: 0.7502\n",
      "Epoch 58/100\n",
      "27/27 [==============================] - 0s 10ms/step - loss: 0.0844 - f1_score: 0.7559 - val_loss: 0.0870 - val_f1_score: 0.7432\n",
      "Epoch 59/100\n",
      "27/27 [==============================] - 0s 10ms/step - loss: 0.0834 - f1_score: 0.7544 - val_loss: 0.0859 - val_f1_score: 0.7421\n",
      "Epoch 60/100\n",
      "27/27 [==============================] - 0s 10ms/step - loss: 0.0811 - f1_score: 0.7632 - val_loss: 0.0851 - val_f1_score: 0.7665\n",
      "Epoch 61/100\n",
      "27/27 [==============================] - 0s 10ms/step - loss: 0.0803 - f1_score: 0.7657 - val_loss: 0.0845 - val_f1_score: 0.7492\n",
      "Epoch 62/100\n",
      "27/27 [==============================] - 0s 10ms/step - loss: 0.0798 - f1_score: 0.7649 - val_loss: 0.0825 - val_f1_score: 0.7664\n",
      "Epoch 63/100\n",
      "27/27 [==============================] - 0s 10ms/step - loss: 0.0782 - f1_score: 0.7754 - val_loss: 0.0821 - val_f1_score: 0.7706\n",
      "Epoch 64/100\n",
      "27/27 [==============================] - 0s 10ms/step - loss: 0.0767 - f1_score: 0.7790 - val_loss: 0.0821 - val_f1_score: 0.7638\n",
      "Epoch 65/100\n",
      "27/27 [==============================] - 0s 10ms/step - loss: 0.0760 - f1_score: 0.7799 - val_loss: 0.0826 - val_f1_score: 0.7552\n",
      "Epoch 66/100\n",
      "27/27 [==============================] - 0s 10ms/step - loss: 0.0751 - f1_score: 0.7801 - val_loss: 0.0806 - val_f1_score: 0.7685\n",
      "Epoch 67/100\n",
      "27/27 [==============================] - 0s 10ms/step - loss: 0.0734 - f1_score: 0.7838 - val_loss: 0.0794 - val_f1_score: 0.7866\n",
      "Epoch 68/100\n",
      "27/27 [==============================] - 0s 10ms/step - loss: 0.0722 - f1_score: 0.7918 - val_loss: 0.0780 - val_f1_score: 0.7804\n",
      "Epoch 69/100\n",
      "27/27 [==============================] - 0s 10ms/step - loss: 0.0718 - f1_score: 0.7912 - val_loss: 0.0779 - val_f1_score: 0.7903\n",
      "Epoch 70/100\n",
      "27/27 [==============================] - 0s 10ms/step - loss: 0.0709 - f1_score: 0.7966 - val_loss: 0.0784 - val_f1_score: 0.7823\n",
      "Epoch 71/100\n",
      "27/27 [==============================] - 0s 10ms/step - loss: 0.0711 - f1_score: 0.7974 - val_loss: 0.0766 - val_f1_score: 0.7981\n",
      "Epoch 72/100\n",
      "27/27 [==============================] - 0s 10ms/step - loss: 0.0689 - f1_score: 0.8042 - val_loss: 0.0790 - val_f1_score: 0.7658\n",
      "Epoch 73/100\n",
      "27/27 [==============================] - 0s 10ms/step - loss: 0.0685 - f1_score: 0.8024 - val_loss: 0.0757 - val_f1_score: 0.8014\n",
      "Epoch 74/100\n",
      "27/27 [==============================] - 0s 10ms/step - loss: 0.0681 - f1_score: 0.8113 - val_loss: 0.0747 - val_f1_score: 0.7843\n",
      "Epoch 75/100\n",
      "27/27 [==============================] - 0s 10ms/step - loss: 0.0673 - f1_score: 0.8134 - val_loss: 0.0753 - val_f1_score: 0.7986\n",
      "Epoch 76/100\n",
      "27/27 [==============================] - 0s 10ms/step - loss: 0.0674 - f1_score: 0.8141 - val_loss: 0.0751 - val_f1_score: 0.7834\n",
      "Epoch 77/100\n",
      "27/27 [==============================] - 0s 10ms/step - loss: 0.0659 - f1_score: 0.8287 - val_loss: 0.0749 - val_f1_score: 0.8081\n",
      "Epoch 78/100\n",
      "27/27 [==============================] - 0s 10ms/step - loss: 0.0657 - f1_score: 0.8334 - val_loss: 0.0731 - val_f1_score: 0.7956\n",
      "Epoch 79/100\n",
      "27/27 [==============================] - 0s 10ms/step - loss: 0.0655 - f1_score: 0.8448 - val_loss: 0.0742 - val_f1_score: 0.7866\n",
      "Epoch 80/100\n",
      "27/27 [==============================] - 0s 10ms/step - loss: 0.0651 - f1_score: 0.8507 - val_loss: 0.0739 - val_f1_score: 0.8517\n",
      "Epoch 81/100\n",
      "27/27 [==============================] - 0s 10ms/step - loss: 0.0642 - f1_score: 0.8593 - val_loss: 0.0735 - val_f1_score: 0.8638\n",
      "Epoch 82/100\n",
      "27/27 [==============================] - 0s 10ms/step - loss: 0.0639 - f1_score: 0.8674 - val_loss: 0.0732 - val_f1_score: 0.8523\n",
      "Epoch 83/100\n",
      "27/27 [==============================] - 0s 10ms/step - loss: 0.0651 - f1_score: 0.8684 - val_loss: 0.0771 - val_f1_score: 0.8315\n",
      "Epoch 84/100\n",
      "27/27 [==============================] - 0s 10ms/step - loss: 0.0642 - f1_score: 0.8758 - val_loss: 0.0745 - val_f1_score: 0.8752\n",
      "Epoch 85/100\n",
      "27/27 [==============================] - 0s 10ms/step - loss: 0.0634 - f1_score: 0.8813 - val_loss: 0.0741 - val_f1_score: 0.8754\n",
      "Epoch 86/100\n",
      "27/27 [==============================] - 0s 10ms/step - loss: 0.0624 - f1_score: 0.8862 - val_loss: 0.0738 - val_f1_score: 0.8729\n",
      "Epoch 87/100\n",
      "27/27 [==============================] - 0s 10ms/step - loss: 0.0621 - f1_score: 0.8869 - val_loss: 0.0722 - val_f1_score: 0.8646\n",
      "Epoch 88/100\n",
      "27/27 [==============================] - 0s 10ms/step - loss: 0.0616 - f1_score: 0.8878 - val_loss: 0.0718 - val_f1_score: 0.8635\n",
      "Epoch 89/100\n",
      "27/27 [==============================] - 0s 10ms/step - loss: 0.0610 - f1_score: 0.8916 - val_loss: 0.0728 - val_f1_score: 0.8787\n",
      "Epoch 90/100\n",
      "27/27 [==============================] - 0s 10ms/step - loss: 0.0614 - f1_score: 0.8918 - val_loss: 0.0709 - val_f1_score: 0.8642\n",
      "Epoch 91/100\n",
      "27/27 [==============================] - 0s 10ms/step - loss: 0.0612 - f1_score: 0.8938 - val_loss: 0.0716 - val_f1_score: 0.8685\n",
      "Epoch 92/100\n",
      "27/27 [==============================] - 0s 10ms/step - loss: 0.0602 - f1_score: 0.9000 - val_loss: 0.0736 - val_f1_score: 0.9016\n",
      "Epoch 93/100\n",
      "27/27 [==============================] - 0s 10ms/step - loss: 0.0598 - f1_score: 0.9008 - val_loss: 0.0721 - val_f1_score: 0.9058\n",
      "Epoch 94/100\n",
      "27/27 [==============================] - 0s 10ms/step - loss: 0.0596 - f1_score: 0.9027 - val_loss: 0.0706 - val_f1_score: 0.8986\n",
      "Epoch 95/100\n",
      "27/27 [==============================] - 0s 10ms/step - loss: 0.0596 - f1_score: 0.9070 - val_loss: 0.0705 - val_f1_score: 0.9035\n",
      "Epoch 96/100\n",
      "27/27 [==============================] - 0s 10ms/step - loss: 0.0592 - f1_score: 0.9033 - val_loss: 0.0720 - val_f1_score: 0.8608\n",
      "Epoch 97/100\n",
      "27/27 [==============================] - 0s 10ms/step - loss: 0.0607 - f1_score: 0.8965 - val_loss: 0.0717 - val_f1_score: 0.8903\n",
      "Epoch 98/100\n",
      "27/27 [==============================] - 0s 10ms/step - loss: 0.0588 - f1_score: 0.9097 - val_loss: 0.0705 - val_f1_score: 0.8949\n",
      "Epoch 99/100\n",
      "27/27 [==============================] - 0s 10ms/step - loss: 0.0588 - f1_score: 0.9072 - val_loss: 0.0720 - val_f1_score: 0.8611\n",
      "Epoch 100/100\n",
      "27/27 [==============================] - 0s 10ms/step - loss: 0.0587 - f1_score: 0.9084 - val_loss: 0.0704 - val_f1_score: 0.9103\n",
      "dict_keys(['loss', 'f1_score', 'val_loss', 'val_f1_score'])\n"
     ]
    },
    {
     "data": {
      "image/png": "[encoded data removed]",
      "text/plain": [
       "<Figure size 432x288 with 1 Axes>"
      ]
     },
     "metadata": {
      "needs_background": "light"
     },
     "output_type": "display_data"
    },
    {
     "data": {
      "image/png": "[encoded data removed]",
      "text/plain": [
       "<Figure size 432x288 with 1 Axes>"
      ]
     },
     "metadata": {
      "needs_background": "light"
     },
     "output_type": "display_data"
    },
    {
     "name": "stdout",
     "output_type": "stream",
     "text": [
      "WARNING:tensorflow:From /home/ec2-user/SageMaker/groupby_user_conversion.py:90: Sequential.predict_classes (from tensorflow.python.keras.engine.sequential) is deprecated and will be removed after 2021-01-01.\n",
      "Instructions for updating:\n",
      "Please use instead:* `np.argmax(model.predict(x), axis=-1)`,   if your model does multi-class classification   (e.g. if it uses a `softmax` last-layer activation).* `(model.predict(x) > 0.5).astype(\"int32\")`,   if your model does binary classification   (e.g. if it uses a `sigmoid` last-layer activation).\n",
      "Accuracy: 0.982315\n",
      "Precision: 0.928778\n",
      "Recall: 0.845009\n",
      "F1 score: 0.884915\n"
     ]
    }
   ],
   "source": [
    "lstm_model, test_x, test_y, train_x, train_y = GroupBy.train_lstm(\n",
    "    preprocessed_data_for_lstm['features'], preprocessed_data_for_lstm['label'], threshold=0.9, epochs=100,op=40)\n",
    "Evaluation.plot_history(lstm_model.history)\n",
    "Evaluation.evaluate_nn_model(test_x, test_y, lstm_model)"
   ]
  },
  {
   "cell_type": "code",
   "execution_count": 28,
   "id": "5776de9b",
   "metadata": {},
   "outputs": [],
   "source": [
    "lstm_model.save('lstm_model.h5')"
   ]
  },
  {
   "cell_type": "code",
   "execution_count": 27,
   "id": "db4207d8",
   "metadata": {},
   "outputs": [],
   "source": [
    "?lstm_model.save"
   ]
  },
  {
   "cell_type": "code",
   "execution_count": 11,
   "id": "b71a69d9",
   "metadata": {},
   "outputs": [],
   "source": [
    "# preprocessed_data_for_lstm['event_type_map']"
   ]
  },
  {
   "cell_type": "code",
   "execution_count": 34,
   "id": "d52fdd5b",
   "metadata": {},
   "outputs": [],
   "source": [
    "import pandas as pd\n",
    "uuu = train_x[pd.DataFrame(train_y, columns=['non_convert','convert'])['convert']==1][10:20]"
   ]
  },
  {
   "cell_type": "code",
   "execution_count": 59,
   "id": "6261eb57",
   "metadata": {},
   "outputs": [
    {
     "data": {
      "text/plain": [
       "array([[[ 0,  0,  1,  0,  0,  1,  0, 10,  0,  0,  0,  0,  0,  0,  0,  0,\n",
       "          0,  0,  0,  0,  0,  0,  0,  0,  0,  0,  0,  0,  0,  0,  0,  0,\n",
       "          0,  0,  0,  0,  0,  0,  0,  0]]])"
      ]
     },
     "execution_count": 59,
     "metadata": {},
     "output_type": "execute_result"
    }
   ],
   "source": [
    "np.array([0,0,1,0,0,1,0,10,0,0,0,0,0,0,0,0,0,0,0,0,0,0,0,0,0,0,0,0,0,0,0,0,0,0,0,0,0,0,0,0]).reshape(1,1,-1)"
   ]
  },
  {
   "cell_type": "code",
   "execution_count": 66,
   "id": "c4cb265b",
   "metadata": {},
   "outputs": [
    {
     "name": "stdout",
     "output_type": "stream",
     "text": [
      "tensorboard                        2.5.0\r\n",
      "tensorboard-data-server            0.6.1\r\n",
      "tensorboard-plugin-wit             1.8.0\r\n",
      "tensorflow                         2.3.0\r\n",
      "tensorflow-addons                  0.13.0\r\n",
      "tensorflow-estimator               2.3.0\r\n",
      "\u001b[33mWARNING: You are using pip version 21.1.2; however, version 21.1.3 is available.\r\n",
      "You should consider upgrading via the '/home/ec2-user/anaconda3/envs/python3/bin/python -m pip install --upgrade pip' command.\u001b[0m\r\n"
     ]
    }
   ],
   "source": [
    "!pip list | grep tensor"
   ]
  },
  {
   "cell_type": "code",
   "execution_count": 50,
   "id": "edbfd8ca",
   "metadata": {},
   "outputs": [
    {
     "data": {
      "text/plain": [
       "(10, 1, 40)"
      ]
     },
     "execution_count": 50,
     "metadata": {},
     "output_type": "execute_result"
    }
   ],
   "source": [
    "uuu.shape"
   ]
  },
  {
   "cell_type": "code",
   "execution_count": 63,
   "id": "51b1d36c",
   "metadata": {},
   "outputs": [
    {
     "name": "stdout",
     "output_type": "stream",
     "text": [
      "WARNING:tensorflow:7 out of the last 450 calls to <function Model.make_predict_function.<locals>.predict_function at 0x7f60919211e0> triggered tf.function retracing. Tracing is expensive and the excessive number of tracings could be due to (1) creating @tf.function repeatedly in a loop, (2) passing tensors with different shapes, (3) passing Python objects instead of tensors. For (1), please define your @tf.function outside of the loop. For (2), @tf.function has experimental_relax_shapes=True option that relaxes argument shapes that can avoid unnecessary retracing. For (3), please refer to https://www.tensorflow.org/tutorials/customization/performance#python_or_tensor_args and https://www.tensorflow.org/api_docs/python/tf/function for  more details.\n"
     ]
    },
    {
     "data": {
      "text/plain": [
       "array([[1.5534501e-04, 9.9984467e-01]], dtype=float32)"
      ]
     },
     "execution_count": 63,
     "metadata": {},
     "output_type": "execute_result"
    }
   ],
   "source": [
    "import numpy as np\n",
    "from keras.models import load_model\n",
    "lstm_model_new = load_model('lstm_model.h5')\n",
    "# lstm_model_new.predict_proba(\n",
    "#     np.array([0,0,1,0,0,1,0,10,0,0,0,0,0,0,0,0,0,0,0,0,0,0,0,0,0,0,0,0,0,0,0,0,0,0,0,0,0,0,0,0]).reshape(1,1,-1))\n",
    "lstm_model_new.predict_proba(\n",
    "    np.array([0,0,1,0,0,1,0,10,0,0,0,0,0,0,0,0,0,0,0,0,0,0,0,0,0,0,0,0,0,0,0,0,0,0,0,0,0,0,0,0]).reshape(1,1,-1))"
   ]
  },
  {
   "cell_type": "code",
   "execution_count": 32,
   "id": "cdb495bd",
   "metadata": {},
   "outputs": [
    {
     "data": {
      "text/plain": [
       "<tensorflow.python.keras.engine.sequential.Sequential at 0x7f6092df24a8>"
      ]
     },
     "execution_count": 32,
     "metadata": {},
     "output_type": "execute_result"
    }
   ],
   "source": []
  }
 ],
 "metadata": {
  "kernelspec": {
   "display_name": "conda_python3",
   "language": "python",
   "name": "conda_python3"
  },
  "language_info": {
   "codemirror_mode": {
    "name": "ipython",
    "version": 3
   },
   "file_extension": ".py",
   "mimetype": "text/x-python",
   "name": "python",
   "nbconvert_exporter": "python",
   "pygments_lexer": "ipython3",
   "version": "3.6.13"
  }
 },
 "nbformat": 4,
 "nbformat_minor": 5
}
